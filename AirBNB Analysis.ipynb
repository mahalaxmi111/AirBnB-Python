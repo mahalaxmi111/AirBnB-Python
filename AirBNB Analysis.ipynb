{
 "cells": [
  {
   "cell_type": "markdown",
   "id": "25594243",
   "metadata": {
    "papermill": {
     "duration": 0.016813,
     "end_time": "2025-01-24T20:48:17.856183",
     "exception": false,
     "start_time": "2025-01-24T20:48:17.839370",
     "status": "completed"
    },
    "tags": []
   },
   "source": [
    "<div style=\"background-color: #FF5A4F; padding: 20px;\">\n",
    "  <h1 style=\"text-align: center; color: #FFFFFF; font-size: 50px; text-shadow: 2px 2px 4px #000000;\">\n",
    "    Airbnb Listings & Reviews\n",
    "  </h1>\n",
    "</div>\n"
   ]
  },
  {
   "cell_type": "markdown",
   "id": "6950cf2a",
   "metadata": {
    "execution": {
     "iopub.execute_input": "2025-01-14T11:29:47.306095Z",
     "iopub.status.busy": "2025-01-14T11:29:47.305708Z",
     "iopub.status.idle": "2025-01-14T11:29:47.312600Z",
     "shell.execute_reply": "2025-01-14T11:29:47.311190Z",
     "shell.execute_reply.started": "2025-01-14T11:29:47.306061Z"
    },
    "papermill": {
     "duration": 0.014449,
     "end_time": "2025-01-24T20:48:17.885685",
     "exception": false,
     "start_time": "2025-01-24T20:48:17.871236",
     "status": "completed"
    },
    "tags": []
   },
   "source": [
    "<center> <img src=\"https://jayvas.com/wp-content/uploads/2020/11/airbnb-real-estate-company.jpg\" width=800 height=350 ></center>"
   ]
  },
  {
   "cell_type": "markdown",
   "id": "a1682869",
   "metadata": {
    "papermill": {
     "duration": 0.015065,
     "end_time": "2025-01-24T20:48:17.915886",
     "exception": false,
     "start_time": "2025-01-24T20:48:17.900821",
     "status": "completed"
    },
    "tags": []
   },
   "source": [
    "<div style=\"background-color: #ffe6e6; padding: 20px;\">\n",
    "<h1 style=\"text-align: center; color: #FF5A4F; font-size: 50px; text-shadow: 2px 2px 4px #000000;\"><strong>WHAT IS AIRBNB?</strong></h1>\n",
    "\n",
    "\n"
   ]
  },
  {
   "cell_type": "markdown",
   "id": "7bfd1097",
   "metadata": {
    "papermill": {
     "duration": 0.014273,
     "end_time": "2025-01-24T20:48:17.946175",
     "exception": false,
     "start_time": "2025-01-24T20:48:17.931902",
     "status": "completed"
    },
    "tags": []
   },
   "source": [
    "### Airbnb is an innovative online marketplace for short-term lodging and experiences, founded in 2008 by Brian Chesky, Joe Gebbia, and Nathan Blecharczyk. It has revolutionized how people travel and experience new places by connecting hosts who rent out their spaces with travelers seeking unique accommodations. Listings range from homes and apartments to distinctive stays like treehouses and castles. The platform ensures safety and trust with verified profiles and secure payments, making it a popular choice for travelers worldwide.\n",
    "\n",
    "### **Core Features of Airbnb:**\n",
    "### **Hosts:** Individuals or property owners can list their available spaces, ranging from entire homes and apartments to unique accommodations like treehouses, yurts, and even castles. Hosts provide details, set pricing, and availability, making it easy for guests to find a perfect stay.\n",
    "### **Guests:** Travelers use Airbnb to search for and book accommodations that meet their preferences. They can filter listings based on location, price, amenities, and other criteria. Guests can also book activities and experiences hosted by locals, such as guided tours, cooking classes, and outdoor adventures."
   ]
  },
  {
   "cell_type": "markdown",
   "id": "618770a8",
   "metadata": {
    "papermill": {
     "duration": 0.014064,
     "end_time": "2025-01-24T20:48:17.974828",
     "exception": false,
     "start_time": "2025-01-24T20:48:17.960764",
     "status": "completed"
    },
    "tags": []
   },
   "source": [
    "<div style=\"background-color: #007E8B; padding: 5px;\" class=\"no-hover\">\n",
    "  <h1 style=\"text-align: center; color: #FF5A5F; font-size: 85px; text-shadow: 3px 3px 5px #831452; font-family: 'Courier New', Courier, monospace; font-weight: bold;\">\n",
    "    <strong>Exploratory Data Analysis</strong>\n",
    "  </h1>\n",
    "</div>"
   ]
  },
  {
   "cell_type": "markdown",
   "id": "47770247",
   "metadata": {
    "papermill": {
     "duration": 0.014155,
     "end_time": "2025-01-24T20:48:18.004357",
     "exception": false,
     "start_time": "2025-01-24T20:48:17.990202",
     "status": "completed"
    },
    "tags": []
   },
   "source": [
    "## **IMPORTING LIBRARIES**"
   ]
  },
  {
   "cell_type": "code",
   "execution_count": 1,
   "id": "ab6ba292",
   "metadata": {
    "_cell_guid": "b1076dfc-b9ad-4769-8c92-a6c4dae69d19",
    "_uuid": "8f2839f25d086af736a60e9eeb907d3b93b6e0e5",
    "execution": {
     "iopub.execute_input": "2025-01-24T20:48:18.035211Z",
     "iopub.status.busy": "2025-01-24T20:48:18.034811Z",
     "iopub.status.idle": "2025-01-24T20:48:19.012894Z",
     "shell.execute_reply": "2025-01-24T20:48:19.011433Z"
    },
    "papermill": {
     "duration": 0.995903,
     "end_time": "2025-01-24T20:48:19.014835",
     "exception": false,
     "start_time": "2025-01-24T20:48:18.018932",
     "status": "completed"
    },
    "tags": []
   },
   "outputs": [
    {
     "name": "stdout",
     "output_type": "stream",
     "text": [
      "/kaggle/input/airbnb-listings-reviews/Airbnb Data/Listings.csv\n",
      "/kaggle/input/airbnb-listings-reviews/Airbnb Data/Reviews.csv\n",
      "/kaggle/input/airbnb-listings-reviews/Airbnb Data/Reviews_data_dictionary.csv\n",
      "/kaggle/input/airbnb-listings-reviews/Airbnb Data/Listings_data_dictionary.csv\n"
     ]
    }
   ],
   "source": [
    "# This Python 3 environment comes with many helpful analytics libraries installed\n",
    "# It is defined by the kaggle/python Docker image: https://github.com/kaggle/docker-python\n",
    "# For example, here's several helpful packages to load\n",
    "\n",
    "import numpy as np # linear algebra\n",
    "import pandas as pd # data processing, CSV file I/O (e.g. pd.read_csv)\n",
    "\n",
    "# Input data files are available in the read-only \"../input/\" directory\n",
    "# For example, running this (by clicking run or pressing Shift+Enter) will list all files under the input directory\n",
    "\n",
    "import os\n",
    "for dirname, _, filenames in os.walk('/kaggle/input'):\n",
    "    for filename in filenames:\n",
    "        print(os.path.join(dirname, filename))\n",
    "\n",
    "# You can write up to 20GB to the current directory (/kaggle/working/) that gets preserved as output when you create a version using \"Save & Run All\" \n",
    "# You can also write temporary files to /kaggle/temp/, but they won't be saved outside of the current session"
   ]
  },
  {
   "cell_type": "markdown",
   "id": "6d5bc054",
   "metadata": {
    "papermill": {
     "duration": 0.0144,
     "end_time": "2025-01-24T20:48:19.044131",
     "exception": false,
     "start_time": "2025-01-24T20:48:19.029731",
     "status": "completed"
    },
    "tags": []
   },
   "source": [
    "# **LODING AND CHEKING DATASET**"
   ]
  },
  {
   "cell_type": "markdown",
   "id": "80c729ec",
   "metadata": {
    "papermill": {
     "duration": 0.015187,
     "end_time": "2025-01-24T20:48:19.074096",
     "exception": false,
     "start_time": "2025-01-24T20:48:19.058909",
     "status": "completed"
    },
    "tags": []
   },
   "source": [
    "## **Code Loads The Airbnb Review data dictionary from a CSV file** "
   ]
  },
  {
   "cell_type": "code",
   "execution_count": 2,
   "id": "877e81ec",
   "metadata": {
    "execution": {
     "iopub.execute_input": "2025-01-24T20:48:19.105221Z",
     "iopub.status.busy": "2025-01-24T20:48:19.104690Z",
     "iopub.status.idle": "2025-01-24T20:48:19.123542Z",
     "shell.execute_reply": "2025-01-24T20:48:19.122106Z"
    },
    "papermill": {
     "duration": 0.036391,
     "end_time": "2025-01-24T20:48:19.125379",
     "exception": false,
     "start_time": "2025-01-24T20:48:19.088988",
     "status": "completed"
    },
    "tags": []
   },
   "outputs": [],
   "source": [
    "Reviews_diction = pd.read_csv(r\"/kaggle/input/airbnb-listings-reviews/Airbnb Data/Reviews_data_dictionary.csv\")"
   ]
  },
  {
   "cell_type": "markdown",
   "id": "65aa3eea",
   "metadata": {
    "papermill": {
     "duration": 0.014554,
     "end_time": "2025-01-24T20:48:19.156667",
     "exception": false,
     "start_time": "2025-01-24T20:48:19.142113",
     "status": "completed"
    },
    "tags": []
   },
   "source": [
    "## **EXPLORING DATA COLUMNS**"
   ]
  },
  {
   "cell_type": "markdown",
   "id": "4d3f5f9d",
   "metadata": {
    "papermill": {
     "duration": 0.014196,
     "end_time": "2025-01-24T20:48:19.185412",
     "exception": false,
     "start_time": "2025-01-24T20:48:19.171216",
     "status": "completed"
    },
    "tags": []
   },
   "source": [
    "## **DATA DESCRIPTION**"
   ]
  },
  {
   "cell_type": "code",
   "execution_count": 3,
   "id": "bec39e0a",
   "metadata": {
    "execution": {
     "iopub.execute_input": "2025-01-24T20:48:19.216726Z",
     "iopub.status.busy": "2025-01-24T20:48:19.216336Z",
     "iopub.status.idle": "2025-01-24T20:48:19.235573Z",
     "shell.execute_reply": "2025-01-24T20:48:19.234395Z"
    },
    "papermill": {
     "duration": 0.03763,
     "end_time": "2025-01-24T20:48:19.237765",
     "exception": false,
     "start_time": "2025-01-24T20:48:19.200135",
     "status": "completed"
    },
    "tags": []
   },
   "outputs": [
    {
     "data": {
      "text/html": [
       "<div>\n",
       "<style scoped>\n",
       "    .dataframe tbody tr th:only-of-type {\n",
       "        vertical-align: middle;\n",
       "    }\n",
       "\n",
       "    .dataframe tbody tr th {\n",
       "        vertical-align: top;\n",
       "    }\n",
       "\n",
       "    .dataframe thead th {\n",
       "        text-align: right;\n",
       "    }\n",
       "</style>\n",
       "<table border=\"1\" class=\"dataframe\">\n",
       "  <thead>\n",
       "    <tr style=\"text-align: right;\">\n",
       "      <th></th>\n",
       "      <th>Field</th>\n",
       "      <th>Description</th>\n",
       "    </tr>\n",
       "  </thead>\n",
       "  <tbody>\n",
       "    <tr>\n",
       "      <th>0</th>\n",
       "      <td>listing_id</td>\n",
       "      <td>Listing ID</td>\n",
       "    </tr>\n",
       "    <tr>\n",
       "      <th>1</th>\n",
       "      <td>review_id</td>\n",
       "      <td>Review ID</td>\n",
       "    </tr>\n",
       "    <tr>\n",
       "      <th>2</th>\n",
       "      <td>date</td>\n",
       "      <td>Review date</td>\n",
       "    </tr>\n",
       "    <tr>\n",
       "      <th>3</th>\n",
       "      <td>reviewer_id</td>\n",
       "      <td>Reviewer ID</td>\n",
       "    </tr>\n",
       "  </tbody>\n",
       "</table>\n",
       "</div>"
      ],
      "text/plain": [
       "         Field  Description\n",
       "0   listing_id   Listing ID\n",
       "1    review_id    Review ID\n",
       "2         date  Review date\n",
       "3  reviewer_id  Reviewer ID"
      ]
     },
     "execution_count": 3,
     "metadata": {},
     "output_type": "execute_result"
    }
   ],
   "source": [
    "Reviews_diction"
   ]
  },
  {
   "cell_type": "markdown",
   "id": "1859ea36",
   "metadata": {
    "papermill": {
     "duration": 0.014519,
     "end_time": "2025-01-24T20:48:19.267640",
     "exception": false,
     "start_time": "2025-01-24T20:48:19.253121",
     "status": "completed"
    },
    "tags": []
   },
   "source": [
    "## **Code loads the Airbnb Listings data dictionary from a CSV file** "
   ]
  },
  {
   "cell_type": "code",
   "execution_count": 4,
   "id": "dbc618ba",
   "metadata": {
    "execution": {
     "iopub.execute_input": "2025-01-24T20:48:19.299176Z",
     "iopub.status.busy": "2025-01-24T20:48:19.298757Z",
     "iopub.status.idle": "2025-01-24T20:48:19.310555Z",
     "shell.execute_reply": "2025-01-24T20:48:19.308904Z"
    },
    "papermill": {
     "duration": 0.029963,
     "end_time": "2025-01-24T20:48:19.312653",
     "exception": false,
     "start_time": "2025-01-24T20:48:19.282690",
     "status": "completed"
    },
    "tags": []
   },
   "outputs": [],
   "source": [
    "listings_dict=pd.read_csv(r\"/kaggle/input/airbnb-listings-reviews/Airbnb Data/Listings_data_dictionary.csv\")"
   ]
  },
  {
   "cell_type": "markdown",
   "id": "baa71543",
   "metadata": {
    "papermill": {
     "duration": 0.014921,
     "end_time": "2025-01-24T20:48:19.343044",
     "exception": false,
     "start_time": "2025-01-24T20:48:19.328123",
     "status": "completed"
    },
    "tags": []
   },
   "source": [
    "## **DATA DESCRIPTION**"
   ]
  },
  {
   "cell_type": "markdown",
   "id": "7e6410fe",
   "metadata": {
    "papermill": {
     "duration": 0.015158,
     "end_time": "2025-01-24T20:48:19.373280",
     "exception": false,
     "start_time": "2025-01-24T20:48:19.358122",
     "status": "completed"
    },
    "tags": []
   },
   "source": [
    "## **EXPLORING DATA COLUMNS**"
   ]
  },
  {
   "cell_type": "code",
   "execution_count": 5,
   "id": "d9c9c12b",
   "metadata": {
    "execution": {
     "iopub.execute_input": "2025-01-24T20:48:19.404875Z",
     "iopub.status.busy": "2025-01-24T20:48:19.404398Z",
     "iopub.status.idle": "2025-01-24T20:48:19.416302Z",
     "shell.execute_reply": "2025-01-24T20:48:19.415196Z"
    },
    "papermill": {
     "duration": 0.029867,
     "end_time": "2025-01-24T20:48:19.418275",
     "exception": false,
     "start_time": "2025-01-24T20:48:19.388408",
     "status": "completed"
    },
    "tags": []
   },
   "outputs": [
    {
     "data": {
      "text/html": [
       "<div>\n",
       "<style scoped>\n",
       "    .dataframe tbody tr th:only-of-type {\n",
       "        vertical-align: middle;\n",
       "    }\n",
       "\n",
       "    .dataframe tbody tr th {\n",
       "        vertical-align: top;\n",
       "    }\n",
       "\n",
       "    .dataframe thead th {\n",
       "        text-align: right;\n",
       "    }\n",
       "</style>\n",
       "<table border=\"1\" class=\"dataframe\">\n",
       "  <thead>\n",
       "    <tr style=\"text-align: right;\">\n",
       "      <th></th>\n",
       "      <th>Field</th>\n",
       "      <th>Description</th>\n",
       "    </tr>\n",
       "  </thead>\n",
       "  <tbody>\n",
       "    <tr>\n",
       "      <th>0</th>\n",
       "      <td>listing_id</td>\n",
       "      <td>Listing ID</td>\n",
       "    </tr>\n",
       "    <tr>\n",
       "      <th>1</th>\n",
       "      <td>name</td>\n",
       "      <td>Listing Name</td>\n",
       "    </tr>\n",
       "    <tr>\n",
       "      <th>2</th>\n",
       "      <td>host_id</td>\n",
       "      <td>Host ID</td>\n",
       "    </tr>\n",
       "    <tr>\n",
       "      <th>3</th>\n",
       "      <td>host_since</td>\n",
       "      <td>Date the Host joined Airbnb</td>\n",
       "    </tr>\n",
       "    <tr>\n",
       "      <th>4</th>\n",
       "      <td>host_location</td>\n",
       "      <td>Location where the Host is based</td>\n",
       "    </tr>\n",
       "    <tr>\n",
       "      <th>5</th>\n",
       "      <td>host_response_time</td>\n",
       "      <td>Estimate of how long the Host takes to respond</td>\n",
       "    </tr>\n",
       "    <tr>\n",
       "      <th>6</th>\n",
       "      <td>host_response_rate</td>\n",
       "      <td>Percentage of times the Host responds</td>\n",
       "    </tr>\n",
       "    <tr>\n",
       "      <th>7</th>\n",
       "      <td>host_acceptance_rate</td>\n",
       "      <td>Percentage of times the Host accepts a booking...</td>\n",
       "    </tr>\n",
       "    <tr>\n",
       "      <th>8</th>\n",
       "      <td>host_is_superhost</td>\n",
       "      <td>Binary field to determine if the Host is a Sup...</td>\n",
       "    </tr>\n",
       "    <tr>\n",
       "      <th>9</th>\n",
       "      <td>host_total_listings_count</td>\n",
       "      <td>Total listings the Host has in Airbnb</td>\n",
       "    </tr>\n",
       "    <tr>\n",
       "      <th>10</th>\n",
       "      <td>host_has_profile_pic</td>\n",
       "      <td>Binary field to determine if the Host has a pr...</td>\n",
       "    </tr>\n",
       "    <tr>\n",
       "      <th>11</th>\n",
       "      <td>host_identity_verified</td>\n",
       "      <td>Binary field to determine if the Host has a ve...</td>\n",
       "    </tr>\n",
       "    <tr>\n",
       "      <th>12</th>\n",
       "      <td>neighbourhood</td>\n",
       "      <td>Neighborhood the Listing is in</td>\n",
       "    </tr>\n",
       "    <tr>\n",
       "      <th>13</th>\n",
       "      <td>district</td>\n",
       "      <td>District the Listing is in</td>\n",
       "    </tr>\n",
       "    <tr>\n",
       "      <th>14</th>\n",
       "      <td>city</td>\n",
       "      <td>City the Listing is in</td>\n",
       "    </tr>\n",
       "    <tr>\n",
       "      <th>15</th>\n",
       "      <td>latitude</td>\n",
       "      <td>Listing's latitude</td>\n",
       "    </tr>\n",
       "    <tr>\n",
       "      <th>16</th>\n",
       "      <td>longitude</td>\n",
       "      <td>Listing's longitude</td>\n",
       "    </tr>\n",
       "    <tr>\n",
       "      <th>17</th>\n",
       "      <td>property_type</td>\n",
       "      <td>Type of property for the Listing</td>\n",
       "    </tr>\n",
       "    <tr>\n",
       "      <th>18</th>\n",
       "      <td>room_type</td>\n",
       "      <td>Type of room type in Airbnb for the Listing</td>\n",
       "    </tr>\n",
       "    <tr>\n",
       "      <th>19</th>\n",
       "      <td>accommodates</td>\n",
       "      <td>Guests the Listing accomodates</td>\n",
       "    </tr>\n",
       "    <tr>\n",
       "      <th>20</th>\n",
       "      <td>bedrooms</td>\n",
       "      <td>Bedrooms in the Listing</td>\n",
       "    </tr>\n",
       "    <tr>\n",
       "      <th>21</th>\n",
       "      <td>amenities</td>\n",
       "      <td>Amenities the Listing includes</td>\n",
       "    </tr>\n",
       "    <tr>\n",
       "      <th>22</th>\n",
       "      <td>price</td>\n",
       "      <td>Listing price (in each country's currency)</td>\n",
       "    </tr>\n",
       "    <tr>\n",
       "      <th>23</th>\n",
       "      <td>minimum_nights</td>\n",
       "      <td>Minimum nights per booking</td>\n",
       "    </tr>\n",
       "    <tr>\n",
       "      <th>24</th>\n",
       "      <td>maximum_nights</td>\n",
       "      <td>Maximum nights per booking</td>\n",
       "    </tr>\n",
       "    <tr>\n",
       "      <th>25</th>\n",
       "      <td>review_scores_rating</td>\n",
       "      <td>Listing's overall rating (out of 100)</td>\n",
       "    </tr>\n",
       "    <tr>\n",
       "      <th>26</th>\n",
       "      <td>review_scores_accuracy</td>\n",
       "      <td>Listing's accuracy score based on what's promo...</td>\n",
       "    </tr>\n",
       "    <tr>\n",
       "      <th>27</th>\n",
       "      <td>review_scores_cleanliness</td>\n",
       "      <td>Listing's cleanliness score (out of 10)</td>\n",
       "    </tr>\n",
       "    <tr>\n",
       "      <th>28</th>\n",
       "      <td>review_scores_checkin</td>\n",
       "      <td>Listing's check-in experience score (out of 10)</td>\n",
       "    </tr>\n",
       "    <tr>\n",
       "      <th>29</th>\n",
       "      <td>review_scores_communication</td>\n",
       "      <td>Listing's communication with the Host score (o...</td>\n",
       "    </tr>\n",
       "    <tr>\n",
       "      <th>30</th>\n",
       "      <td>review_scores_location</td>\n",
       "      <td>Listing's location score within the city (out ...</td>\n",
       "    </tr>\n",
       "    <tr>\n",
       "      <th>31</th>\n",
       "      <td>review_scores_value</td>\n",
       "      <td>Listing's value score relative to its price (o...</td>\n",
       "    </tr>\n",
       "    <tr>\n",
       "      <th>32</th>\n",
       "      <td>instant_bookable</td>\n",
       "      <td>Binary field to determine if the Listing can b...</td>\n",
       "    </tr>\n",
       "  </tbody>\n",
       "</table>\n",
       "</div>"
      ],
      "text/plain": [
       "                          Field  \\\n",
       "0                    listing_id   \n",
       "1                          name   \n",
       "2                       host_id   \n",
       "3                    host_since   \n",
       "4                 host_location   \n",
       "5            host_response_time   \n",
       "6            host_response_rate   \n",
       "7          host_acceptance_rate   \n",
       "8             host_is_superhost   \n",
       "9     host_total_listings_count   \n",
       "10         host_has_profile_pic   \n",
       "11       host_identity_verified   \n",
       "12                neighbourhood   \n",
       "13                     district   \n",
       "14                         city   \n",
       "15                     latitude   \n",
       "16                    longitude   \n",
       "17                property_type   \n",
       "18                    room_type   \n",
       "19                 accommodates   \n",
       "20                     bedrooms   \n",
       "21                    amenities   \n",
       "22                        price   \n",
       "23               minimum_nights   \n",
       "24               maximum_nights   \n",
       "25         review_scores_rating   \n",
       "26       review_scores_accuracy   \n",
       "27    review_scores_cleanliness   \n",
       "28        review_scores_checkin   \n",
       "29  review_scores_communication   \n",
       "30       review_scores_location   \n",
       "31          review_scores_value   \n",
       "32             instant_bookable   \n",
       "\n",
       "                                          Description  \n",
       "0                                          Listing ID  \n",
       "1                                        Listing Name  \n",
       "2                                             Host ID  \n",
       "3                         Date the Host joined Airbnb  \n",
       "4                    Location where the Host is based  \n",
       "5      Estimate of how long the Host takes to respond  \n",
       "6               Percentage of times the Host responds  \n",
       "7   Percentage of times the Host accepts a booking...  \n",
       "8   Binary field to determine if the Host is a Sup...  \n",
       "9               Total listings the Host has in Airbnb  \n",
       "10  Binary field to determine if the Host has a pr...  \n",
       "11  Binary field to determine if the Host has a ve...  \n",
       "12                     Neighborhood the Listing is in  \n",
       "13                         District the Listing is in  \n",
       "14                             City the Listing is in  \n",
       "15                                 Listing's latitude  \n",
       "16                                Listing's longitude  \n",
       "17                   Type of property for the Listing  \n",
       "18        Type of room type in Airbnb for the Listing  \n",
       "19                     Guests the Listing accomodates  \n",
       "20                            Bedrooms in the Listing  \n",
       "21                     Amenities the Listing includes  \n",
       "22         Listing price (in each country's currency)  \n",
       "23                         Minimum nights per booking  \n",
       "24                         Maximum nights per booking  \n",
       "25              Listing's overall rating (out of 100)  \n",
       "26  Listing's accuracy score based on what's promo...  \n",
       "27            Listing's cleanliness score (out of 10)  \n",
       "28    Listing's check-in experience score (out of 10)  \n",
       "29  Listing's communication with the Host score (o...  \n",
       "30  Listing's location score within the city (out ...  \n",
       "31  Listing's value score relative to its price (o...  \n",
       "32  Binary field to determine if the Listing can b...  "
      ]
     },
     "execution_count": 5,
     "metadata": {},
     "output_type": "execute_result"
    }
   ],
   "source": [
    "listings_dict #exploring data columns"
   ]
  },
  {
   "cell_type": "markdown",
   "id": "b148f22f",
   "metadata": {
    "papermill": {
     "duration": 0.014811,
     "end_time": "2025-01-24T20:48:19.448432",
     "exception": false,
     "start_time": "2025-01-24T20:48:19.433621",
     "status": "completed"
    },
    "tags": []
   },
   "source": [
    " ## **Loads Airbnb Reviews Data From a CSV File**"
   ]
  },
  {
   "cell_type": "code",
   "execution_count": 6,
   "id": "378c035e",
   "metadata": {
    "execution": {
     "iopub.execute_input": "2025-01-24T20:48:19.479885Z",
     "iopub.status.busy": "2025-01-24T20:48:19.479433Z",
     "iopub.status.idle": "2025-01-24T20:48:24.877852Z",
     "shell.execute_reply": "2025-01-24T20:48:24.876607Z"
    },
    "papermill": {
     "duration": 5.416489,
     "end_time": "2025-01-24T20:48:24.879939",
     "exception": false,
     "start_time": "2025-01-24T20:48:19.463450",
     "status": "completed"
    },
    "tags": []
   },
   "outputs": [],
   "source": [
    "reviews=pd.read_csv(r\"/kaggle/input/airbnb-listings-reviews/Airbnb Data/Reviews.csv\")"
   ]
  },
  {
   "cell_type": "markdown",
   "id": "d992dffd",
   "metadata": {
    "papermill": {
     "duration": 0.015087,
     "end_time": "2025-01-24T20:48:24.911704",
     "exception": false,
     "start_time": "2025-01-24T20:48:24.896617",
     "status": "completed"
    },
    "tags": []
   },
   "source": [
    "## **Displays the first five rows of the DataFrame**"
   ]
  },
  {
   "cell_type": "code",
   "execution_count": 7,
   "id": "74a68f05",
   "metadata": {
    "execution": {
     "iopub.execute_input": "2025-01-24T20:48:24.946329Z",
     "iopub.status.busy": "2025-01-24T20:48:24.945953Z",
     "iopub.status.idle": "2025-01-24T20:48:24.957121Z",
     "shell.execute_reply": "2025-01-24T20:48:24.955661Z"
    },
    "papermill": {
     "duration": 0.0314,
     "end_time": "2025-01-24T20:48:24.959203",
     "exception": false,
     "start_time": "2025-01-24T20:48:24.927803",
     "status": "completed"
    },
    "tags": []
   },
   "outputs": [
    {
     "data": {
      "text/html": [
       "<div>\n",
       "<style scoped>\n",
       "    .dataframe tbody tr th:only-of-type {\n",
       "        vertical-align: middle;\n",
       "    }\n",
       "\n",
       "    .dataframe tbody tr th {\n",
       "        vertical-align: top;\n",
       "    }\n",
       "\n",
       "    .dataframe thead th {\n",
       "        text-align: right;\n",
       "    }\n",
       "</style>\n",
       "<table border=\"1\" class=\"dataframe\">\n",
       "  <thead>\n",
       "    <tr style=\"text-align: right;\">\n",
       "      <th></th>\n",
       "      <th>listing_id</th>\n",
       "      <th>review_id</th>\n",
       "      <th>date</th>\n",
       "      <th>reviewer_id</th>\n",
       "    </tr>\n",
       "  </thead>\n",
       "  <tbody>\n",
       "    <tr>\n",
       "      <th>0</th>\n",
       "      <td>11798</td>\n",
       "      <td>330265172</td>\n",
       "      <td>2018-09-30</td>\n",
       "      <td>11863072</td>\n",
       "    </tr>\n",
       "    <tr>\n",
       "      <th>1</th>\n",
       "      <td>15383</td>\n",
       "      <td>330103585</td>\n",
       "      <td>2018-09-30</td>\n",
       "      <td>39147453</td>\n",
       "    </tr>\n",
       "    <tr>\n",
       "      <th>2</th>\n",
       "      <td>16455</td>\n",
       "      <td>329985788</td>\n",
       "      <td>2018-09-30</td>\n",
       "      <td>1125378</td>\n",
       "    </tr>\n",
       "    <tr>\n",
       "      <th>3</th>\n",
       "      <td>17919</td>\n",
       "      <td>330016899</td>\n",
       "      <td>2018-09-30</td>\n",
       "      <td>172717984</td>\n",
       "    </tr>\n",
       "    <tr>\n",
       "      <th>4</th>\n",
       "      <td>26827</td>\n",
       "      <td>329995638</td>\n",
       "      <td>2018-09-30</td>\n",
       "      <td>17542859</td>\n",
       "    </tr>\n",
       "  </tbody>\n",
       "</table>\n",
       "</div>"
      ],
      "text/plain": [
       "   listing_id  review_id        date  reviewer_id\n",
       "0       11798  330265172  2018-09-30     11863072\n",
       "1       15383  330103585  2018-09-30     39147453\n",
       "2       16455  329985788  2018-09-30      1125378\n",
       "3       17919  330016899  2018-09-30    172717984\n",
       "4       26827  329995638  2018-09-30     17542859"
      ]
     },
     "execution_count": 7,
     "metadata": {},
     "output_type": "execute_result"
    }
   ],
   "source": [
    "reviews.head()"
   ]
  },
  {
   "cell_type": "markdown",
   "id": "27befd0b",
   "metadata": {
    "papermill": {
     "duration": 0.016004,
     "end_time": "2025-01-24T20:48:24.991414",
     "exception": false,
     "start_time": "2025-01-24T20:48:24.975410",
     "status": "completed"
    },
    "tags": []
   },
   "source": [
    "## **Code loads Airbnb listings data from a CSV file**"
   ]
  },
  {
   "cell_type": "code",
   "execution_count": 8,
   "id": "bd701532",
   "metadata": {
    "execution": {
     "iopub.execute_input": "2025-01-24T20:48:25.039027Z",
     "iopub.status.busy": "2025-01-24T20:48:25.038654Z",
     "iopub.status.idle": "2025-01-24T20:48:30.487752Z",
     "shell.execute_reply": "2025-01-24T20:48:30.486646Z"
    },
    "papermill": {
     "duration": 5.479791,
     "end_time": "2025-01-24T20:48:30.490080",
     "exception": false,
     "start_time": "2025-01-24T20:48:25.010289",
     "status": "completed"
    },
    "tags": []
   },
   "outputs": [],
   "source": [
    "listings=pd.read_csv(r\"/kaggle/input/airbnb-listings-reviews/Airbnb Data/Listings.csv\",encoding=\"ISO-8859-1\",low_memory=False)"
   ]
  },
  {
   "cell_type": "markdown",
   "id": "10d3ad5e",
   "metadata": {
    "papermill": {
     "duration": 0.0162,
     "end_time": "2025-01-24T20:48:30.523416",
     "exception": false,
     "start_time": "2025-01-24T20:48:30.507216",
     "status": "completed"
    },
    "tags": []
   },
   "source": [
    "## **Displays the first five rows of the DataFrame**"
   ]
  },
  {
   "cell_type": "code",
   "execution_count": 9,
   "id": "52859c0d",
   "metadata": {
    "execution": {
     "iopub.execute_input": "2025-01-24T20:48:30.555537Z",
     "iopub.status.busy": "2025-01-24T20:48:30.555169Z",
     "iopub.status.idle": "2025-01-24T20:48:30.586968Z",
     "shell.execute_reply": "2025-01-24T20:48:30.585656Z"
    },
    "papermill": {
     "duration": 0.050268,
     "end_time": "2025-01-24T20:48:30.588944",
     "exception": false,
     "start_time": "2025-01-24T20:48:30.538676",
     "status": "completed"
    },
    "tags": []
   },
   "outputs": [
    {
     "data": {
      "text/html": [
       "<div>\n",
       "<style scoped>\n",
       "    .dataframe tbody tr th:only-of-type {\n",
       "        vertical-align: middle;\n",
       "    }\n",
       "\n",
       "    .dataframe tbody tr th {\n",
       "        vertical-align: top;\n",
       "    }\n",
       "\n",
       "    .dataframe thead th {\n",
       "        text-align: right;\n",
       "    }\n",
       "</style>\n",
       "<table border=\"1\" class=\"dataframe\">\n",
       "  <thead>\n",
       "    <tr style=\"text-align: right;\">\n",
       "      <th></th>\n",
       "      <th>listing_id</th>\n",
       "      <th>name</th>\n",
       "      <th>host_id</th>\n",
       "      <th>host_since</th>\n",
       "      <th>host_location</th>\n",
       "      <th>host_response_time</th>\n",
       "      <th>host_response_rate</th>\n",
       "      <th>host_acceptance_rate</th>\n",
       "      <th>host_is_superhost</th>\n",
       "      <th>host_total_listings_count</th>\n",
       "      <th>...</th>\n",
       "      <th>minimum_nights</th>\n",
       "      <th>maximum_nights</th>\n",
       "      <th>review_scores_rating</th>\n",
       "      <th>review_scores_accuracy</th>\n",
       "      <th>review_scores_cleanliness</th>\n",
       "      <th>review_scores_checkin</th>\n",
       "      <th>review_scores_communication</th>\n",
       "      <th>review_scores_location</th>\n",
       "      <th>review_scores_value</th>\n",
       "      <th>instant_bookable</th>\n",
       "    </tr>\n",
       "  </thead>\n",
       "  <tbody>\n",
       "    <tr>\n",
       "      <th>0</th>\n",
       "      <td>281420</td>\n",
       "      <td>Beautiful Flat in le Village Montmartre, Paris</td>\n",
       "      <td>1466919</td>\n",
       "      <td>2011-12-03</td>\n",
       "      <td>Paris, Ile-de-France, France</td>\n",
       "      <td>NaN</td>\n",
       "      <td>NaN</td>\n",
       "      <td>NaN</td>\n",
       "      <td>f</td>\n",
       "      <td>1.0</td>\n",
       "      <td>...</td>\n",
       "      <td>2</td>\n",
       "      <td>1125</td>\n",
       "      <td>100.0</td>\n",
       "      <td>10.0</td>\n",
       "      <td>10.0</td>\n",
       "      <td>10.0</td>\n",
       "      <td>10.0</td>\n",
       "      <td>10.0</td>\n",
       "      <td>10.0</td>\n",
       "      <td>f</td>\n",
       "    </tr>\n",
       "    <tr>\n",
       "      <th>1</th>\n",
       "      <td>3705183</td>\n",
       "      <td>39 mÃÂ² Paris (Sacre CÃ",
       "âur)</td>\n",
       "      <td>10328771</td>\n",
       "      <td>2013-11-29</td>\n",
       "      <td>Paris, Ile-de-France, France</td>\n",
       "      <td>NaN</td>\n",
       "      <td>NaN</td>\n",
       "      <td>NaN</td>\n",
       "      <td>f</td>\n",
       "      <td>1.0</td>\n",
       "      <td>...</td>\n",
       "      <td>2</td>\n",
       "      <td>1125</td>\n",
       "      <td>100.0</td>\n",
       "      <td>10.0</td>\n",
       "      <td>10.0</td>\n",
       "      <td>10.0</td>\n",
       "      <td>10.0</td>\n",
       "      <td>10.0</td>\n",
       "      <td>10.0</td>\n",
       "      <td>f</td>\n",
       "    </tr>\n",
       "    <tr>\n",
       "      <th>2</th>\n",
       "      <td>4082273</td>\n",
       "      <td>Lovely apartment with Terrace, 60m2</td>\n",
       "      <td>19252768</td>\n",
       "      <td>2014-07-31</td>\n",
       "      <td>Paris, Ile-de-France, France</td>\n",
       "      <td>NaN</td>\n",
       "      <td>NaN</td>\n",
       "      <td>NaN</td>\n",
       "      <td>f</td>\n",
       "      <td>1.0</td>\n",
       "      <td>...</td>\n",
       "      <td>2</td>\n",
       "      <td>1125</td>\n",
       "      <td>100.0</td>\n",
       "      <td>10.0</td>\n",
       "      <td>10.0</td>\n",
       "      <td>10.0</td>\n",
       "      <td>10.0</td>\n",
       "      <td>10.0</td>\n",
       "      <td>10.0</td>\n",
       "      <td>f</td>\n",
       "    </tr>\n",
       "    <tr>\n",
       "      <th>3</th>\n",
       "      <td>4797344</td>\n",
       "      <td>Cosy studio (close to Eiffel tower)</td>\n",
       "      <td>10668311</td>\n",
       "      <td>2013-12-17</td>\n",
       "      <td>Paris, Ile-de-France, France</td>\n",
       "      <td>NaN</td>\n",
       "      <td>NaN</td>\n",
       "      <td>NaN</td>\n",
       "      <td>f</td>\n",
       "      <td>1.0</td>\n",
       "      <td>...</td>\n",
       "      <td>2</td>\n",
       "      <td>1125</td>\n",
       "      <td>100.0</td>\n",
       "      <td>10.0</td>\n",
       "      <td>10.0</td>\n",
       "      <td>10.0</td>\n",
       "      <td>10.0</td>\n",
       "      <td>10.0</td>\n",
       "      <td>10.0</td>\n",
       "      <td>f</td>\n",
       "    </tr>\n",
       "    <tr>\n",
       "      <th>4</th>\n",
       "      <td>4823489</td>\n",
       "      <td>Close to Eiffel Tower - Beautiful flat : 2 rooms</td>\n",
       "      <td>24837558</td>\n",
       "      <td>2014-12-14</td>\n",
       "      <td>Paris, Ile-de-France, France</td>\n",
       "      <td>NaN</td>\n",
       "      <td>NaN</td>\n",
       "      <td>NaN</td>\n",
       "      <td>f</td>\n",
       "      <td>1.0</td>\n",
       "      <td>...</td>\n",
       "      <td>2</td>\n",
       "      <td>1125</td>\n",
       "      <td>100.0</td>\n",
       "      <td>10.0</td>\n",
       "      <td>10.0</td>\n",
       "      <td>10.0</td>\n",
       "      <td>10.0</td>\n",
       "      <td>10.0</td>\n",
       "      <td>10.0</td>\n",
       "      <td>f</td>\n",
       "    </tr>\n",
       "  </tbody>\n",
       "</table>\n",
       "<p>5 rows × 33 columns</p>\n",
       "</div>"
      ],
      "text/plain": [
       "   listing_id                                              name   host_id  \\\n",
       "0      281420    Beautiful Flat in le Village Montmartre, Paris   1466919   \n",
       "1     3705183                   39 mÃÂ² Paris (Sacre CÃ\n",
       "âur)  10328771   \n",
       "2     4082273               Lovely apartment with Terrace, 60m2  19252768   \n",
       "3     4797344               Cosy studio (close to Eiffel tower)  10668311   \n",
       "4     4823489  Close to Eiffel Tower - Beautiful flat : 2 rooms  24837558   \n",
       "\n",
       "   host_since                 host_location host_response_time  \\\n",
       "0  2011-12-03  Paris, Ile-de-France, France                NaN   \n",
       "1  2013-11-29  Paris, Ile-de-France, France                NaN   \n",
       "2  2014-07-31  Paris, Ile-de-France, France                NaN   \n",
       "3  2013-12-17  Paris, Ile-de-France, France                NaN   \n",
       "4  2014-12-14  Paris, Ile-de-France, France                NaN   \n",
       "\n",
       "   host_response_rate  host_acceptance_rate host_is_superhost  \\\n",
       "0                 NaN                   NaN                 f   \n",
       "1                 NaN                   NaN                 f   \n",
       "2                 NaN                   NaN                 f   \n",
       "3                 NaN                   NaN                 f   \n",
       "4                 NaN                   NaN                 f   \n",
       "\n",
       "   host_total_listings_count  ... minimum_nights maximum_nights  \\\n",
       "0                        1.0  ...              2           1125   \n",
       "1                        1.0  ...              2           1125   \n",
       "2                        1.0  ...              2           1125   \n",
       "3                        1.0  ...              2           1125   \n",
       "4                        1.0  ...              2           1125   \n",
       "\n",
       "  review_scores_rating review_scores_accuracy review_scores_cleanliness  \\\n",
       "0                100.0                   10.0                      10.0   \n",
       "1                100.0                   10.0                      10.0   \n",
       "2                100.0                   10.0                      10.0   \n",
       "3                100.0                   10.0                      10.0   \n",
       "4                100.0                   10.0                      10.0   \n",
       "\n",
       "   review_scores_checkin  review_scores_communication review_scores_location  \\\n",
       "0                   10.0                         10.0                   10.0   \n",
       "1                   10.0                         10.0                   10.0   \n",
       "2                   10.0                         10.0                   10.0   \n",
       "3                   10.0                         10.0                   10.0   \n",
       "4                   10.0                         10.0                   10.0   \n",
       "\n",
       "  review_scores_value  instant_bookable  \n",
       "0                10.0                 f  \n",
       "1                10.0                 f  \n",
       "2                10.0                 f  \n",
       "3                10.0                 f  \n",
       "4                10.0                 f  \n",
       "\n",
       "[5 rows x 33 columns]"
      ]
     },
     "execution_count": 9,
     "metadata": {},
     "output_type": "execute_result"
    }
   ],
   "source": [
    "listings.head()"
   ]
  },
  {
   "cell_type": "markdown",
   "id": "4b7e1569",
   "metadata": {
    "papermill": {
     "duration": 0.01521,
     "end_time": "2025-01-24T20:48:30.620302",
     "exception": false,
     "start_time": "2025-01-24T20:48:30.605092",
     "status": "completed"
    },
    "tags": []
   },
   "source": [
    "## **Converting st rings into date**"
   ]
  },
  {
   "cell_type": "code",
   "execution_count": 10,
   "id": "7f7b9925",
   "metadata": {
    "execution": {
     "iopub.execute_input": "2025-01-24T20:48:30.654092Z",
     "iopub.status.busy": "2025-01-24T20:48:30.653646Z",
     "iopub.status.idle": "2025-01-24T20:48:30.914843Z",
     "shell.execute_reply": "2025-01-24T20:48:30.913637Z"
    },
    "papermill": {
     "duration": 0.280186,
     "end_time": "2025-01-24T20:48:30.916860",
     "exception": false,
     "start_time": "2025-01-24T20:48:30.636674",
     "status": "completed"
    },
    "tags": []
   },
   "outputs": [
    {
     "data": {
      "text/html": [
       "<div>\n",
       "<style scoped>\n",
       "    .dataframe tbody tr th:only-of-type {\n",
       "        vertical-align: middle;\n",
       "    }\n",
       "\n",
       "    .dataframe tbody tr th {\n",
       "        vertical-align: top;\n",
       "    }\n",
       "\n",
       "    .dataframe thead th {\n",
       "        text-align: right;\n",
       "    }\n",
       "</style>\n",
       "<table border=\"1\" class=\"dataframe\">\n",
       "  <thead>\n",
       "    <tr style=\"text-align: right;\">\n",
       "      <th></th>\n",
       "      <th>listing_id</th>\n",
       "      <th>host_id</th>\n",
       "      <th>host_response_rate</th>\n",
       "      <th>host_acceptance_rate</th>\n",
       "      <th>host_total_listings_count</th>\n",
       "      <th>latitude</th>\n",
       "      <th>longitude</th>\n",
       "      <th>accommodates</th>\n",
       "      <th>bedrooms</th>\n",
       "      <th>price</th>\n",
       "      <th>minimum_nights</th>\n",
       "      <th>maximum_nights</th>\n",
       "      <th>review_scores_rating</th>\n",
       "      <th>review_scores_accuracy</th>\n",
       "      <th>review_scores_cleanliness</th>\n",
       "      <th>review_scores_checkin</th>\n",
       "      <th>review_scores_communication</th>\n",
       "      <th>review_scores_location</th>\n",
       "      <th>review_scores_value</th>\n",
       "    </tr>\n",
       "  </thead>\n",
       "  <tbody>\n",
       "    <tr>\n",
       "      <th>count</th>\n",
       "      <td>2.797120e+05</td>\n",
       "      <td>2.797120e+05</td>\n",
       "      <td>150930.000000</td>\n",
       "      <td>166625.000000</td>\n",
       "      <td>279547.000000</td>\n",
       "      <td>279712.000000</td>\n",
       "      <td>279712.000000</td>\n",
       "      <td>279712.000000</td>\n",
       "      <td>250277.000000</td>\n",
       "      <td>279712.000000</td>\n",
       "      <td>279712.000000</td>\n",
       "      <td>2.797120e+05</td>\n",
       "      <td>188307.000000</td>\n",
       "      <td>187999.000000</td>\n",
       "      <td>188047.000000</td>\n",
       "      <td>187941.000000</td>\n",
       "      <td>188025.000000</td>\n",
       "      <td>187937.000000</td>\n",
       "      <td>187927.000000</td>\n",
       "    </tr>\n",
       "    <tr>\n",
       "      <th>mean</th>\n",
       "      <td>2.638196e+07</td>\n",
       "      <td>1.081658e+08</td>\n",
       "      <td>0.865939</td>\n",
       "      <td>0.827168</td>\n",
       "      <td>24.581612</td>\n",
       "      <td>18.761862</td>\n",
       "      <td>12.595075</td>\n",
       "      <td>3.288736</td>\n",
       "      <td>1.515509</td>\n",
       "      <td>608.792737</td>\n",
       "      <td>8.050967</td>\n",
       "      <td>2.755860e+04</td>\n",
       "      <td>93.405195</td>\n",
       "      <td>9.565476</td>\n",
       "      <td>9.312869</td>\n",
       "      <td>9.701534</td>\n",
       "      <td>9.698593</td>\n",
       "      <td>9.633994</td>\n",
       "      <td>9.335364</td>\n",
       "    </tr>\n",
       "    <tr>\n",
       "      <th>std</th>\n",
       "      <td>1.442576e+07</td>\n",
       "      <td>1.108570e+08</td>\n",
       "      <td>0.283744</td>\n",
       "      <td>0.289202</td>\n",
       "      <td>284.041143</td>\n",
       "      <td>32.560343</td>\n",
       "      <td>73.081309</td>\n",
       "      <td>2.133379</td>\n",
       "      <td>1.153080</td>\n",
       "      <td>3441.826611</td>\n",
       "      <td>31.518946</td>\n",
       "      <td>7.282875e+06</td>\n",
       "      <td>10.070437</td>\n",
       "      <td>0.990878</td>\n",
       "      <td>1.146072</td>\n",
       "      <td>0.867434</td>\n",
       "      <td>0.886884</td>\n",
       "      <td>0.833234</td>\n",
       "      <td>1.042625</td>\n",
       "    </tr>\n",
       "    <tr>\n",
       "      <th>min</th>\n",
       "      <td>2.577000e+03</td>\n",
       "      <td>1.822000e+03</td>\n",
       "      <td>0.000000</td>\n",
       "      <td>0.000000</td>\n",
       "      <td>0.000000</td>\n",
       "      <td>-34.264400</td>\n",
       "      <td>-99.339630</td>\n",
       "      <td>0.000000</td>\n",
       "      <td>1.000000</td>\n",
       "      <td>0.000000</td>\n",
       "      <td>1.000000</td>\n",
       "      <td>1.000000e+00</td>\n",
       "      <td>20.000000</td>\n",
       "      <td>2.000000</td>\n",
       "      <td>2.000000</td>\n",
       "      <td>2.000000</td>\n",
       "      <td>2.000000</td>\n",
       "      <td>2.000000</td>\n",
       "      <td>2.000000</td>\n",
       "    </tr>\n",
       "    <tr>\n",
       "      <th>25%</th>\n",
       "      <td>1.384462e+07</td>\n",
       "      <td>1.720656e+07</td>\n",
       "      <td>0.900000</td>\n",
       "      <td>0.780000</td>\n",
       "      <td>1.000000</td>\n",
       "      <td>-22.964390</td>\n",
       "      <td>-43.198040</td>\n",
       "      <td>2.000000</td>\n",
       "      <td>1.000000</td>\n",
       "      <td>75.000000</td>\n",
       "      <td>1.000000</td>\n",
       "      <td>4.500000e+01</td>\n",
       "      <td>91.000000</td>\n",
       "      <td>9.000000</td>\n",
       "      <td>9.000000</td>\n",
       "      <td>10.000000</td>\n",
       "      <td>10.000000</td>\n",
       "      <td>9.000000</td>\n",
       "      <td>9.000000</td>\n",
       "    </tr>\n",
       "    <tr>\n",
       "      <th>50%</th>\n",
       "      <td>2.767098e+07</td>\n",
       "      <td>5.826911e+07</td>\n",
       "      <td>1.000000</td>\n",
       "      <td>0.980000</td>\n",
       "      <td>1.000000</td>\n",
       "      <td>40.710785</td>\n",
       "      <td>2.382780</td>\n",
       "      <td>2.000000</td>\n",
       "      <td>1.000000</td>\n",
       "      <td>150.000000</td>\n",
       "      <td>2.000000</td>\n",
       "      <td>1.125000e+03</td>\n",
       "      <td>96.000000</td>\n",
       "      <td>10.000000</td>\n",
       "      <td>10.000000</td>\n",
       "      <td>10.000000</td>\n",
       "      <td>10.000000</td>\n",
       "      <td>10.000000</td>\n",
       "      <td>10.000000</td>\n",
       "    </tr>\n",
       "    <tr>\n",
       "      <th>75%</th>\n",
       "      <td>3.978485e+07</td>\n",
       "      <td>1.832853e+08</td>\n",
       "      <td>1.000000</td>\n",
       "      <td>1.000000</td>\n",
       "      <td>4.000000</td>\n",
       "      <td>41.908610</td>\n",
       "      <td>28.986730</td>\n",
       "      <td>4.000000</td>\n",
       "      <td>2.000000</td>\n",
       "      <td>474.000000</td>\n",
       "      <td>5.000000</td>\n",
       "      <td>1.125000e+03</td>\n",
       "      <td>100.000000</td>\n",
       "      <td>10.000000</td>\n",
       "      <td>10.000000</td>\n",
       "      <td>10.000000</td>\n",
       "      <td>10.000000</td>\n",
       "      <td>10.000000</td>\n",
       "      <td>10.000000</td>\n",
       "    </tr>\n",
       "    <tr>\n",
       "      <th>max</th>\n",
       "      <td>4.834353e+07</td>\n",
       "      <td>3.901874e+08</td>\n",
       "      <td>1.000000</td>\n",
       "      <td>1.000000</td>\n",
       "      <td>7235.000000</td>\n",
       "      <td>48.904910</td>\n",
       "      <td>151.339810</td>\n",
       "      <td>16.000000</td>\n",
       "      <td>50.000000</td>\n",
       "      <td>625216.000000</td>\n",
       "      <td>9999.000000</td>\n",
       "      <td>2.147484e+09</td>\n",
       "      <td>100.000000</td>\n",
       "      <td>10.000000</td>\n",
       "      <td>10.000000</td>\n",
       "      <td>10.000000</td>\n",
       "      <td>10.000000</td>\n",
       "      <td>10.000000</td>\n",
       "      <td>10.000000</td>\n",
       "    </tr>\n",
       "  </tbody>\n",
       "</table>\n",
       "</div>"
      ],
      "text/plain": [
       "         listing_id       host_id  host_response_rate  host_acceptance_rate  \\\n",
       "count  2.797120e+05  2.797120e+05       150930.000000         166625.000000   \n",
       "mean   2.638196e+07  1.081658e+08            0.865939              0.827168   \n",
       "std    1.442576e+07  1.108570e+08            0.283744              0.289202   \n",
       "min    2.577000e+03  1.822000e+03            0.000000              0.000000   \n",
       "25%    1.384462e+07  1.720656e+07            0.900000              0.780000   \n",
       "50%    2.767098e+07  5.826911e+07            1.000000              0.980000   \n",
       "75%    3.978485e+07  1.832853e+08            1.000000              1.000000   \n",
       "max    4.834353e+07  3.901874e+08            1.000000              1.000000   \n",
       "\n",
       "       host_total_listings_count       latitude      longitude   accommodates  \\\n",
       "count              279547.000000  279712.000000  279712.000000  279712.000000   \n",
       "mean                   24.581612      18.761862      12.595075       3.288736   \n",
       "std                   284.041143      32.560343      73.081309       2.133379   \n",
       "min                     0.000000     -34.264400     -99.339630       0.000000   \n",
       "25%                     1.000000     -22.964390     -43.198040       2.000000   \n",
       "50%                     1.000000      40.710785       2.382780       2.000000   \n",
       "75%                     4.000000      41.908610      28.986730       4.000000   \n",
       "max                  7235.000000      48.904910     151.339810      16.000000   \n",
       "\n",
       "            bedrooms          price  minimum_nights  maximum_nights  \\\n",
       "count  250277.000000  279712.000000   279712.000000    2.797120e+05   \n",
       "mean        1.515509     608.792737        8.050967    2.755860e+04   \n",
       "std         1.153080    3441.826611       31.518946    7.282875e+06   \n",
       "min         1.000000       0.000000        1.000000    1.000000e+00   \n",
       "25%         1.000000      75.000000        1.000000    4.500000e+01   \n",
       "50%         1.000000     150.000000        2.000000    1.125000e+03   \n",
       "75%         2.000000     474.000000        5.000000    1.125000e+03   \n",
       "max        50.000000  625216.000000     9999.000000    2.147484e+09   \n",
       "\n",
       "       review_scores_rating  review_scores_accuracy  \\\n",
       "count         188307.000000           187999.000000   \n",
       "mean              93.405195                9.565476   \n",
       "std               10.070437                0.990878   \n",
       "min               20.000000                2.000000   \n",
       "25%               91.000000                9.000000   \n",
       "50%               96.000000               10.000000   \n",
       "75%              100.000000               10.000000   \n",
       "max              100.000000               10.000000   \n",
       "\n",
       "       review_scores_cleanliness  review_scores_checkin  \\\n",
       "count              188047.000000          187941.000000   \n",
       "mean                    9.312869               9.701534   \n",
       "std                     1.146072               0.867434   \n",
       "min                     2.000000               2.000000   \n",
       "25%                     9.000000              10.000000   \n",
       "50%                    10.000000              10.000000   \n",
       "75%                    10.000000              10.000000   \n",
       "max                    10.000000              10.000000   \n",
       "\n",
       "       review_scores_communication  review_scores_location  \\\n",
       "count                188025.000000           187937.000000   \n",
       "mean                      9.698593                9.633994   \n",
       "std                       0.886884                0.833234   \n",
       "min                       2.000000                2.000000   \n",
       "25%                      10.000000                9.000000   \n",
       "50%                      10.000000               10.000000   \n",
       "75%                      10.000000               10.000000   \n",
       "max                      10.000000               10.000000   \n",
       "\n",
       "       review_scores_value  \n",
       "count        187927.000000  \n",
       "mean              9.335364  \n",
       "std               1.042625  \n",
       "min               2.000000  \n",
       "25%               9.000000  \n",
       "50%              10.000000  \n",
       "75%              10.000000  \n",
       "max              10.000000  "
      ]
     },
     "execution_count": 10,
     "metadata": {},
     "output_type": "execute_result"
    }
   ],
   "source": [
    "listings.describe()"
   ]
  },
  {
   "cell_type": "code",
   "execution_count": 11,
   "id": "33822c46",
   "metadata": {
    "execution": {
     "iopub.execute_input": "2025-01-24T20:48:30.953158Z",
     "iopub.status.busy": "2025-01-24T20:48:30.952760Z",
     "iopub.status.idle": "2025-01-24T20:48:31.180041Z",
     "shell.execute_reply": "2025-01-24T20:48:31.178633Z"
    },
    "papermill": {
     "duration": 0.248515,
     "end_time": "2025-01-24T20:48:31.181996",
     "exception": false,
     "start_time": "2025-01-24T20:48:30.933481",
     "status": "completed"
    },
    "tags": []
   },
   "outputs": [
    {
     "name": "stdout",
     "output_type": "stream",
     "text": [
      "<class 'pandas.core.frame.DataFrame'>\n",
      "RangeIndex: 279712 entries, 0 to 279711\n",
      "Data columns (total 33 columns):\n",
      " #   Column                       Non-Null Count   Dtype  \n",
      "---  ------                       --------------   -----  \n",
      " 0   listing_id                   279712 non-null  int64  \n",
      " 1   name                         279537 non-null  object \n",
      " 2   host_id                      279712 non-null  int64  \n",
      " 3   host_since                   279547 non-null  object \n",
      " 4   host_location                278872 non-null  object \n",
      " 5   host_response_time           150930 non-null  object \n",
      " 6   host_response_rate           150930 non-null  float64\n",
      " 7   host_acceptance_rate         166625 non-null  float64\n",
      " 8   host_is_superhost            279547 non-null  object \n",
      " 9   host_total_listings_count    279547 non-null  float64\n",
      " 10  host_has_profile_pic         279547 non-null  object \n",
      " 11  host_identity_verified       279547 non-null  object \n",
      " 12  neighbourhood                279712 non-null  object \n",
      " 13  district                     37012 non-null   object \n",
      " 14  city                         279712 non-null  object \n",
      " 15  latitude                     279712 non-null  float64\n",
      " 16  longitude                    279712 non-null  float64\n",
      " 17  property_type                279712 non-null  object \n",
      " 18  room_type                    279712 non-null  object \n",
      " 19  accommodates                 279712 non-null  int64  \n",
      " 20  bedrooms                     250277 non-null  float64\n",
      " 21  amenities                    279712 non-null  object \n",
      " 22  price                        279712 non-null  int64  \n",
      " 23  minimum_nights               279712 non-null  int64  \n",
      " 24  maximum_nights               279712 non-null  int64  \n",
      " 25  review_scores_rating         188307 non-null  float64\n",
      " 26  review_scores_accuracy       187999 non-null  float64\n",
      " 27  review_scores_cleanliness    188047 non-null  float64\n",
      " 28  review_scores_checkin        187941 non-null  float64\n",
      " 29  review_scores_communication  188025 non-null  float64\n",
      " 30  review_scores_location       187937 non-null  float64\n",
      " 31  review_scores_value          187927 non-null  float64\n",
      " 32  instant_bookable             279712 non-null  object \n",
      "dtypes: float64(13), int64(6), object(14)\n",
      "memory usage: 70.4+ MB\n"
     ]
    }
   ],
   "source": [
    "listings.info()"
   ]
  },
  {
   "cell_type": "code",
   "execution_count": 12,
   "id": "b7b464aa",
   "metadata": {
    "execution": {
     "iopub.execute_input": "2025-01-24T20:48:31.216229Z",
     "iopub.status.busy": "2025-01-24T20:48:31.215862Z",
     "iopub.status.idle": "2025-01-24T20:48:31.285328Z",
     "shell.execute_reply": "2025-01-24T20:48:31.284277Z"
    },
    "papermill": {
     "duration": 0.088835,
     "end_time": "2025-01-24T20:48:31.287141",
     "exception": false,
     "start_time": "2025-01-24T20:48:31.198306",
     "status": "completed"
    },
    "tags": []
   },
   "outputs": [],
   "source": [
    "listings[\"host_since\"]=pd.to_datetime(listings[\"host_since\"])#converting string into date"
   ]
  },
  {
   "cell_type": "markdown",
   "id": "4ca9d4d5",
   "metadata": {
    "papermill": {
     "duration": 0.015971,
     "end_time": "2025-01-24T20:48:31.319692",
     "exception": false,
     "start_time": "2025-01-24T20:48:31.303721",
     "status": "completed"
    },
    "tags": []
   },
   "source": [
    "## **Information About The Dataset :**"
   ]
  },
  {
   "cell_type": "code",
   "execution_count": 13,
   "id": "bc51e9f4",
   "metadata": {
    "execution": {
     "iopub.execute_input": "2025-01-24T20:48:31.353829Z",
     "iopub.status.busy": "2025-01-24T20:48:31.353419Z",
     "iopub.status.idle": "2025-01-24T20:48:31.555016Z",
     "shell.execute_reply": "2025-01-24T20:48:31.553603Z"
    },
    "papermill": {
     "duration": 0.220854,
     "end_time": "2025-01-24T20:48:31.556888",
     "exception": false,
     "start_time": "2025-01-24T20:48:31.336034",
     "status": "completed"
    },
    "tags": []
   },
   "outputs": [
    {
     "name": "stdout",
     "output_type": "stream",
     "text": [
      "<class 'pandas.core.frame.DataFrame'>\n",
      "RangeIndex: 279712 entries, 0 to 279711\n",
      "Data columns (total 33 columns):\n",
      " #   Column                       Non-Null Count   Dtype         \n",
      "---  ------                       --------------   -----         \n",
      " 0   listing_id                   279712 non-null  int64         \n",
      " 1   name                         279537 non-null  object        \n",
      " 2   host_id                      279712 non-null  int64         \n",
      " 3   host_since                   279547 non-null  datetime64[ns]\n",
      " 4   host_location                278872 non-null  object        \n",
      " 5   host_response_time           150930 non-null  object        \n",
      " 6   host_response_rate           150930 non-null  float64       \n",
      " 7   host_acceptance_rate         166625 non-null  float64       \n",
      " 8   host_is_superhost            279547 non-null  object        \n",
      " 9   host_total_listings_count    279547 non-null  float64       \n",
      " 10  host_has_profile_pic         279547 non-null  object        \n",
      " 11  host_identity_verified       279547 non-null  object        \n",
      " 12  neighbourhood                279712 non-null  object        \n",
      " 13  district                     37012 non-null   object        \n",
      " 14  city                         279712 non-null  object        \n",
      " 15  latitude                     279712 non-null  float64       \n",
      " 16  longitude                    279712 non-null  float64       \n",
      " 17  property_type                279712 non-null  object        \n",
      " 18  room_type                    279712 non-null  object        \n",
      " 19  accommodates                 279712 non-null  int64         \n",
      " 20  bedrooms                     250277 non-null  float64       \n",
      " 21  amenities                    279712 non-null  object        \n",
      " 22  price                        279712 non-null  int64         \n",
      " 23  minimum_nights               279712 non-null  int64         \n",
      " 24  maximum_nights               279712 non-null  int64         \n",
      " 25  review_scores_rating         188307 non-null  float64       \n",
      " 26  review_scores_accuracy       187999 non-null  float64       \n",
      " 27  review_scores_cleanliness    188047 non-null  float64       \n",
      " 28  review_scores_checkin        187941 non-null  float64       \n",
      " 29  review_scores_communication  188025 non-null  float64       \n",
      " 30  review_scores_location       187937 non-null  float64       \n",
      " 31  review_scores_value          187927 non-null  float64       \n",
      " 32  instant_bookable             279712 non-null  object        \n",
      "dtypes: datetime64[ns](1), float64(13), int64(6), object(13)\n",
      "memory usage: 70.4+ MB\n"
     ]
    }
   ],
   "source": [
    "listings.info()"
   ]
  },
  {
   "cell_type": "markdown",
   "id": "249b3b93",
   "metadata": {
    "papermill": {
     "duration": 0.015864,
     "end_time": "2025-01-24T20:48:31.589004",
     "exception": false,
     "start_time": "2025-01-24T20:48:31.573140",
     "status": "completed"
    },
    "tags": []
   },
   "source": [
    "# **Paris Data Analysis** "
   ]
  },
  {
   "cell_type": "markdown",
   "id": "18f3c729",
   "metadata": {
    "papermill": {
     "duration": 0.01601,
     "end_time": "2025-01-24T20:48:31.621006",
     "exception": false,
     "start_time": "2025-01-24T20:48:31.604996",
     "status": "completed"
    },
    "tags": []
   },
   "source": [
    " ## **Columns and Rows Filters :**"
   ]
  },
  {
   "cell_type": "code",
   "execution_count": 14,
   "id": "536bc903",
   "metadata": {
    "execution": {
     "iopub.execute_input": "2025-01-24T20:48:31.654863Z",
     "iopub.status.busy": "2025-01-24T20:48:31.654412Z",
     "iopub.status.idle": "2025-01-24T20:48:31.676455Z",
     "shell.execute_reply": "2025-01-24T20:48:31.675373Z"
    },
    "papermill": {
     "duration": 0.04114,
     "end_time": "2025-01-24T20:48:31.678252",
     "exception": false,
     "start_time": "2025-01-24T20:48:31.637112",
     "status": "completed"
    },
    "tags": []
   },
   "outputs": [
    {
     "data": {
      "text/plain": [
       "city\n",
       "Paris             64690\n",
       "New York          37012\n",
       "Sydney            33630\n",
       "Rome              27647\n",
       "Rio de Janeiro    26615\n",
       "Istanbul          24519\n",
       "Mexico City       20065\n",
       "Bangkok           19361\n",
       "Cape Town         19086\n",
       "Hong Kong          7087\n",
       "Name: count, dtype: int64"
      ]
     },
     "execution_count": 14,
     "metadata": {},
     "output_type": "execute_result"
    }
   ],
   "source": [
    "listings[\"city\"].value_counts()"
   ]
  },
  {
   "cell_type": "code",
   "execution_count": 15,
   "id": "b1ceabbb",
   "metadata": {
    "execution": {
     "iopub.execute_input": "2025-01-24T20:48:31.712549Z",
     "iopub.status.busy": "2025-01-24T20:48:31.712124Z",
     "iopub.status.idle": "2025-01-24T20:48:31.747822Z",
     "shell.execute_reply": "2025-01-24T20:48:31.746582Z"
    },
    "papermill": {
     "duration": 0.055322,
     "end_time": "2025-01-24T20:48:31.750039",
     "exception": false,
     "start_time": "2025-01-24T20:48:31.694717",
     "status": "completed"
    },
    "tags": []
   },
   "outputs": [],
   "source": [
    "paris_listings=listings.query(\"city=='Paris'\")"
   ]
  },
  {
   "cell_type": "code",
   "execution_count": 16,
   "id": "881e99b6",
   "metadata": {
    "execution": {
     "iopub.execute_input": "2025-01-24T20:48:31.785536Z",
     "iopub.status.busy": "2025-01-24T20:48:31.785164Z",
     "iopub.status.idle": "2025-01-24T20:48:31.850076Z",
     "shell.execute_reply": "2025-01-24T20:48:31.848960Z"
    },
    "papermill": {
     "duration": 0.084917,
     "end_time": "2025-01-24T20:48:31.851787",
     "exception": false,
     "start_time": "2025-01-24T20:48:31.766870",
     "status": "completed"
    },
    "tags": []
   },
   "outputs": [
    {
     "data": {
      "text/html": [
       "<div>\n",
       "<style scoped>\n",
       "    .dataframe tbody tr th:only-of-type {\n",
       "        vertical-align: middle;\n",
       "    }\n",
       "\n",
       "    .dataframe tbody tr th {\n",
       "        vertical-align: top;\n",
       "    }\n",
       "\n",
       "    .dataframe thead th {\n",
       "        text-align: right;\n",
       "    }\n",
       "</style>\n",
       "<table border=\"1\" class=\"dataframe\">\n",
       "  <thead>\n",
       "    <tr style=\"text-align: right;\">\n",
       "      <th></th>\n",
       "      <th>listing_id</th>\n",
       "      <th>name</th>\n",
       "      <th>host_id</th>\n",
       "      <th>host_since</th>\n",
       "      <th>host_location</th>\n",
       "      <th>host_response_time</th>\n",
       "      <th>host_response_rate</th>\n",
       "      <th>host_acceptance_rate</th>\n",
       "      <th>host_is_superhost</th>\n",
       "      <th>host_total_listings_count</th>\n",
       "      <th>...</th>\n",
       "      <th>minimum_nights</th>\n",
       "      <th>maximum_nights</th>\n",
       "      <th>review_scores_rating</th>\n",
       "      <th>review_scores_accuracy</th>\n",
       "      <th>review_scores_cleanliness</th>\n",
       "      <th>review_scores_checkin</th>\n",
       "      <th>review_scores_communication</th>\n",
       "      <th>review_scores_location</th>\n",
       "      <th>review_scores_value</th>\n",
       "      <th>instant_bookable</th>\n",
       "    </tr>\n",
       "  </thead>\n",
       "  <tbody>\n",
       "    <tr>\n",
       "      <th>0</th>\n",
       "      <td>281420</td>\n",
       "      <td>Beautiful Flat in le Village Montmartre, Paris</td>\n",
       "      <td>1466919</td>\n",
       "      <td>2011-12-03</td>\n",
       "      <td>Paris, Ile-de-France, France</td>\n",
       "      <td>NaN</td>\n",
       "      <td>NaN</td>\n",
       "      <td>NaN</td>\n",
       "      <td>f</td>\n",
       "      <td>1.0</td>\n",
       "      <td>...</td>\n",
       "      <td>2</td>\n",
       "      <td>1125</td>\n",
       "      <td>100.0</td>\n",
       "      <td>10.0</td>\n",
       "      <td>10.0</td>\n",
       "      <td>10.0</td>\n",
       "      <td>10.0</td>\n",
       "      <td>10.0</td>\n",
       "      <td>10.0</td>\n",
       "      <td>f</td>\n",
       "    </tr>\n",
       "    <tr>\n",
       "      <th>1</th>\n",
       "      <td>3705183</td>\n",
       "      <td>39 mÃÂ² Paris (Sacre CÃ",
       "âur)</td>\n",
       "      <td>10328771</td>\n",
       "      <td>2013-11-29</td>\n",
       "      <td>Paris, Ile-de-France, France</td>\n",
       "      <td>NaN</td>\n",
       "      <td>NaN</td>\n",
       "      <td>NaN</td>\n",
       "      <td>f</td>\n",
       "      <td>1.0</td>\n",
       "      <td>...</td>\n",
       "      <td>2</td>\n",
       "      <td>1125</td>\n",
       "      <td>100.0</td>\n",
       "      <td>10.0</td>\n",
       "      <td>10.0</td>\n",
       "      <td>10.0</td>\n",
       "      <td>10.0</td>\n",
       "      <td>10.0</td>\n",
       "      <td>10.0</td>\n",
       "      <td>f</td>\n",
       "    </tr>\n",
       "    <tr>\n",
       "      <th>2</th>\n",
       "      <td>4082273</td>\n",
       "      <td>Lovely apartment with Terrace, 60m2</td>\n",
       "      <td>19252768</td>\n",
       "      <td>2014-07-31</td>\n",
       "      <td>Paris, Ile-de-France, France</td>\n",
       "      <td>NaN</td>\n",
       "      <td>NaN</td>\n",
       "      <td>NaN</td>\n",
       "      <td>f</td>\n",
       "      <td>1.0</td>\n",
       "      <td>...</td>\n",
       "      <td>2</td>\n",
       "      <td>1125</td>\n",
       "      <td>100.0</td>\n",
       "      <td>10.0</td>\n",
       "      <td>10.0</td>\n",
       "      <td>10.0</td>\n",
       "      <td>10.0</td>\n",
       "      <td>10.0</td>\n",
       "      <td>10.0</td>\n",
       "      <td>f</td>\n",
       "    </tr>\n",
       "    <tr>\n",
       "      <th>3</th>\n",
       "      <td>4797344</td>\n",
       "      <td>Cosy studio (close to Eiffel tower)</td>\n",
       "      <td>10668311</td>\n",
       "      <td>2013-12-17</td>\n",
       "      <td>Paris, Ile-de-France, France</td>\n",
       "      <td>NaN</td>\n",
       "      <td>NaN</td>\n",
       "      <td>NaN</td>\n",
       "      <td>f</td>\n",
       "      <td>1.0</td>\n",
       "      <td>...</td>\n",
       "      <td>2</td>\n",
       "      <td>1125</td>\n",
       "      <td>100.0</td>\n",
       "      <td>10.0</td>\n",
       "      <td>10.0</td>\n",
       "      <td>10.0</td>\n",
       "      <td>10.0</td>\n",
       "      <td>10.0</td>\n",
       "      <td>10.0</td>\n",
       "      <td>f</td>\n",
       "    </tr>\n",
       "    <tr>\n",
       "      <th>4</th>\n",
       "      <td>4823489</td>\n",
       "      <td>Close to Eiffel Tower - Beautiful flat : 2 rooms</td>\n",
       "      <td>24837558</td>\n",
       "      <td>2014-12-14</td>\n",
       "      <td>Paris, Ile-de-France, France</td>\n",
       "      <td>NaN</td>\n",
       "      <td>NaN</td>\n",
       "      <td>NaN</td>\n",
       "      <td>f</td>\n",
       "      <td>1.0</td>\n",
       "      <td>...</td>\n",
       "      <td>2</td>\n",
       "      <td>1125</td>\n",
       "      <td>100.0</td>\n",
       "      <td>10.0</td>\n",
       "      <td>10.0</td>\n",
       "      <td>10.0</td>\n",
       "      <td>10.0</td>\n",
       "      <td>10.0</td>\n",
       "      <td>10.0</td>\n",
       "      <td>f</td>\n",
       "    </tr>\n",
       "    <tr>\n",
       "      <th>...</th>\n",
       "      <td>...</td>\n",
       "      <td>...</td>\n",
       "      <td>...</td>\n",
       "      <td>...</td>\n",
       "      <td>...</td>\n",
       "      <td>...</td>\n",
       "      <td>...</td>\n",
       "      <td>...</td>\n",
       "      <td>...</td>\n",
       "      <td>...</td>\n",
       "      <td>...</td>\n",
       "      <td>...</td>\n",
       "      <td>...</td>\n",
       "      <td>...</td>\n",
       "      <td>...</td>\n",
       "      <td>...</td>\n",
       "      <td>...</td>\n",
       "      <td>...</td>\n",
       "      <td>...</td>\n",
       "      <td>...</td>\n",
       "      <td>...</td>\n",
       "    </tr>\n",
       "    <tr>\n",
       "      <th>279707</th>\n",
       "      <td>38338635</td>\n",
       "      <td>Appartement T2 neuf prÃÂ¨s du tram T3a Porte ...</td>\n",
       "      <td>31161181</td>\n",
       "      <td>2015-04-13</td>\n",
       "      <td>Paris, Ile-de-France, France</td>\n",
       "      <td>NaN</td>\n",
       "      <td>NaN</td>\n",
       "      <td>NaN</td>\n",
       "      <td>f</td>\n",
       "      <td>1.0</td>\n",
       "      <td>...</td>\n",
       "      <td>1</td>\n",
       "      <td>7</td>\n",
       "      <td>100.0</td>\n",
       "      <td>10.0</td>\n",
       "      <td>10.0</td>\n",
       "      <td>10.0</td>\n",
       "      <td>10.0</td>\n",
       "      <td>10.0</td>\n",
       "      <td>10.0</td>\n",
       "      <td>f</td>\n",
       "    </tr>\n",
       "    <tr>\n",
       "      <th>279708</th>\n",
       "      <td>38538692</td>\n",
       "      <td>Cozy Studio in Montmartre</td>\n",
       "      <td>10294858</td>\n",
       "      <td>2013-11-27</td>\n",
       "      <td>Paris, Ile-de-France, France</td>\n",
       "      <td>NaN</td>\n",
       "      <td>NaN</td>\n",
       "      <td>NaN</td>\n",
       "      <td>f</td>\n",
       "      <td>1.0</td>\n",
       "      <td>...</td>\n",
       "      <td>7</td>\n",
       "      <td>15</td>\n",
       "      <td>100.0</td>\n",
       "      <td>10.0</td>\n",
       "      <td>10.0</td>\n",
       "      <td>10.0</td>\n",
       "      <td>10.0</td>\n",
       "      <td>10.0</td>\n",
       "      <td>10.0</td>\n",
       "      <td>f</td>\n",
       "    </tr>\n",
       "    <tr>\n",
       "      <th>279709</th>\n",
       "      <td>38683356</td>\n",
       "      <td>Nice and cosy mini-appartement in Paris</td>\n",
       "      <td>2238502</td>\n",
       "      <td>2012-04-27</td>\n",
       "      <td>Paris, Ile-de-France, France</td>\n",
       "      <td>NaN</td>\n",
       "      <td>NaN</td>\n",
       "      <td>NaN</td>\n",
       "      <td>f</td>\n",
       "      <td>1.0</td>\n",
       "      <td>...</td>\n",
       "      <td>6</td>\n",
       "      <td>30</td>\n",
       "      <td>100.0</td>\n",
       "      <td>10.0</td>\n",
       "      <td>10.0</td>\n",
       "      <td>10.0</td>\n",
       "      <td>10.0</td>\n",
       "      <td>10.0</td>\n",
       "      <td>10.0</td>\n",
       "      <td>f</td>\n",
       "    </tr>\n",
       "    <tr>\n",
       "      <th>279710</th>\n",
       "      <td>39659000</td>\n",
       "      <td>Charming apartment near Rue Saint Maur / Oberk...</td>\n",
       "      <td>38633695</td>\n",
       "      <td>2015-07-16</td>\n",
       "      <td>Paris, Ile-de-France, France</td>\n",
       "      <td>NaN</td>\n",
       "      <td>NaN</td>\n",
       "      <td>NaN</td>\n",
       "      <td>f</td>\n",
       "      <td>1.0</td>\n",
       "      <td>...</td>\n",
       "      <td>3</td>\n",
       "      <td>18</td>\n",
       "      <td>100.0</td>\n",
       "      <td>10.0</td>\n",
       "      <td>10.0</td>\n",
       "      <td>10.0</td>\n",
       "      <td>10.0</td>\n",
       "      <td>10.0</td>\n",
       "      <td>10.0</td>\n",
       "      <td>f</td>\n",
       "    </tr>\n",
       "    <tr>\n",
       "      <th>279711</th>\n",
       "      <td>40219504</td>\n",
       "      <td>Cosy apartment with view on Canal St Martin</td>\n",
       "      <td>6955618</td>\n",
       "      <td>2013-06-17</td>\n",
       "      <td>Paris, Ile-de-France, France</td>\n",
       "      <td>NaN</td>\n",
       "      <td>NaN</td>\n",
       "      <td>NaN</td>\n",
       "      <td>f</td>\n",
       "      <td>1.0</td>\n",
       "      <td>...</td>\n",
       "      <td>2</td>\n",
       "      <td>4</td>\n",
       "      <td>100.0</td>\n",
       "      <td>10.0</td>\n",
       "      <td>10.0</td>\n",
       "      <td>10.0</td>\n",
       "      <td>10.0</td>\n",
       "      <td>10.0</td>\n",
       "      <td>10.0</td>\n",
       "      <td>f</td>\n",
       "    </tr>\n",
       "  </tbody>\n",
       "</table>\n",
       "<p>64690 rows × 33 columns</p>\n",
       "</div>"
      ],
      "text/plain": [
       "        listing_id                                               name  \\\n",
       "0           281420     Beautiful Flat in le Village Montmartre, Paris   \n",
       "1          3705183                    39 mÃÂ² Paris (Sacre CÃ\n",
       "âur)   \n",
       "2          4082273                Lovely apartment with Terrace, 60m2   \n",
       "3          4797344                Cosy studio (close to Eiffel tower)   \n",
       "4          4823489   Close to Eiffel Tower - Beautiful flat : 2 rooms   \n",
       "...            ...                                                ...   \n",
       "279707    38338635  Appartement T2 neuf prÃÂ¨s du tram T3a Porte ...   \n",
       "279708    38538692                          Cozy Studio in Montmartre   \n",
       "279709    38683356            Nice and cosy mini-appartement in Paris   \n",
       "279710    39659000  Charming apartment near Rue Saint Maur / Oberk...   \n",
       "279711    40219504        Cosy apartment with view on Canal St Martin   \n",
       "\n",
       "         host_id host_since                 host_location host_response_time  \\\n",
       "0        1466919 2011-12-03  Paris, Ile-de-France, France                NaN   \n",
       "1       10328771 2013-11-29  Paris, Ile-de-France, France                NaN   \n",
       "2       19252768 2014-07-31  Paris, Ile-de-France, France                NaN   \n",
       "3       10668311 2013-12-17  Paris, Ile-de-France, France                NaN   \n",
       "4       24837558 2014-12-14  Paris, Ile-de-France, France                NaN   \n",
       "...          ...        ...                           ...                ...   \n",
       "279707  31161181 2015-04-13  Paris, Ile-de-France, France                NaN   \n",
       "279708  10294858 2013-11-27  Paris, Ile-de-France, France                NaN   \n",
       "279709   2238502 2012-04-27  Paris, Ile-de-France, France                NaN   \n",
       "279710  38633695 2015-07-16  Paris, Ile-de-France, France                NaN   \n",
       "279711   6955618 2013-06-17  Paris, Ile-de-France, France                NaN   \n",
       "\n",
       "        host_response_rate  host_acceptance_rate host_is_superhost  \\\n",
       "0                      NaN                   NaN                 f   \n",
       "1                      NaN                   NaN                 f   \n",
       "2                      NaN                   NaN                 f   \n",
       "3                      NaN                   NaN                 f   \n",
       "4                      NaN                   NaN                 f   \n",
       "...                    ...                   ...               ...   \n",
       "279707                 NaN                   NaN                 f   \n",
       "279708                 NaN                   NaN                 f   \n",
       "279709                 NaN                   NaN                 f   \n",
       "279710                 NaN                   NaN                 f   \n",
       "279711                 NaN                   NaN                 f   \n",
       "\n",
       "        host_total_listings_count  ... minimum_nights maximum_nights  \\\n",
       "0                             1.0  ...              2           1125   \n",
       "1                             1.0  ...              2           1125   \n",
       "2                             1.0  ...              2           1125   \n",
       "3                             1.0  ...              2           1125   \n",
       "4                             1.0  ...              2           1125   \n",
       "...                           ...  ...            ...            ...   \n",
       "279707                        1.0  ...              1              7   \n",
       "279708                        1.0  ...              7             15   \n",
       "279709                        1.0  ...              6             30   \n",
       "279710                        1.0  ...              3             18   \n",
       "279711                        1.0  ...              2              4   \n",
       "\n",
       "       review_scores_rating review_scores_accuracy review_scores_cleanliness  \\\n",
       "0                     100.0                   10.0                      10.0   \n",
       "1                     100.0                   10.0                      10.0   \n",
       "2                     100.0                   10.0                      10.0   \n",
       "3                     100.0                   10.0                      10.0   \n",
       "4                     100.0                   10.0                      10.0   \n",
       "...                     ...                    ...                       ...   \n",
       "279707                100.0                   10.0                      10.0   \n",
       "279708                100.0                   10.0                      10.0   \n",
       "279709                100.0                   10.0                      10.0   \n",
       "279710                100.0                   10.0                      10.0   \n",
       "279711                100.0                   10.0                      10.0   \n",
       "\n",
       "        review_scores_checkin  review_scores_communication  \\\n",
       "0                        10.0                         10.0   \n",
       "1                        10.0                         10.0   \n",
       "2                        10.0                         10.0   \n",
       "3                        10.0                         10.0   \n",
       "4                        10.0                         10.0   \n",
       "...                       ...                          ...   \n",
       "279707                   10.0                         10.0   \n",
       "279708                   10.0                         10.0   \n",
       "279709                   10.0                         10.0   \n",
       "279710                   10.0                         10.0   \n",
       "279711                   10.0                         10.0   \n",
       "\n",
       "       review_scores_location review_scores_value  instant_bookable  \n",
       "0                        10.0                10.0                 f  \n",
       "1                        10.0                10.0                 f  \n",
       "2                        10.0                10.0                 f  \n",
       "3                        10.0                10.0                 f  \n",
       "4                        10.0                10.0                 f  \n",
       "...                       ...                 ...               ...  \n",
       "279707                   10.0                10.0                 f  \n",
       "279708                   10.0                10.0                 f  \n",
       "279709                   10.0                10.0                 f  \n",
       "279710                   10.0                10.0                 f  \n",
       "279711                   10.0                10.0                 f  \n",
       "\n",
       "[64690 rows x 33 columns]"
      ]
     },
     "execution_count": 16,
     "metadata": {},
     "output_type": "execute_result"
    }
   ],
   "source": [
    "paris_listings"
   ]
  },
  {
   "cell_type": "markdown",
   "id": "29dc591e",
   "metadata": {
    "papermill": {
     "duration": 0.016845,
     "end_time": "2025-01-24T20:48:31.885992",
     "exception": false,
     "start_time": "2025-01-24T20:48:31.869147",
     "status": "completed"
    },
    "tags": []
   },
   "source": [
    " ### **Summarizes the DataFrame, showing column names, data types, non-null counts, and memory usage.**"
   ]
  },
  {
   "cell_type": "code",
   "execution_count": 17,
   "id": "a0166c6c",
   "metadata": {
    "execution": {
     "iopub.execute_input": "2025-01-24T20:48:31.921817Z",
     "iopub.status.busy": "2025-01-24T20:48:31.921368Z",
     "iopub.status.idle": "2025-01-24T20:48:31.979387Z",
     "shell.execute_reply": "2025-01-24T20:48:31.977864Z"
    },
    "papermill": {
     "duration": 0.078363,
     "end_time": "2025-01-24T20:48:31.981459",
     "exception": false,
     "start_time": "2025-01-24T20:48:31.903096",
     "status": "completed"
    },
    "tags": []
   },
   "outputs": [
    {
     "name": "stdout",
     "output_type": "stream",
     "text": [
      "<class 'pandas.core.frame.DataFrame'>\n",
      "Index: 64690 entries, 0 to 279711\n",
      "Data columns (total 33 columns):\n",
      " #   Column                       Non-Null Count  Dtype         \n",
      "---  ------                       --------------  -----         \n",
      " 0   listing_id                   64690 non-null  int64         \n",
      " 1   name                         64627 non-null  object        \n",
      " 2   host_id                      64690 non-null  int64         \n",
      " 3   host_since                   64657 non-null  datetime64[ns]\n",
      " 4   host_location                64522 non-null  object        \n",
      " 5   host_response_time           23346 non-null  object        \n",
      " 6   host_response_rate           23346 non-null  float64       \n",
      " 7   host_acceptance_rate         31919 non-null  float64       \n",
      " 8   host_is_superhost            64657 non-null  object        \n",
      " 9   host_total_listings_count    64657 non-null  float64       \n",
      " 10  host_has_profile_pic         64657 non-null  object        \n",
      " 11  host_identity_verified       64657 non-null  object        \n",
      " 12  neighbourhood                64690 non-null  object        \n",
      " 13  district                     0 non-null      object        \n",
      " 14  city                         64690 non-null  object        \n",
      " 15  latitude                     64690 non-null  float64       \n",
      " 16  longitude                    64690 non-null  float64       \n",
      " 17  property_type                64690 non-null  object        \n",
      " 18  room_type                    64690 non-null  object        \n",
      " 19  accommodates                 64690 non-null  int64         \n",
      " 20  bedrooms                     51286 non-null  float64       \n",
      " 21  amenities                    64690 non-null  object        \n",
      " 22  price                        64690 non-null  int64         \n",
      " 23  minimum_nights               64690 non-null  int64         \n",
      " 24  maximum_nights               64690 non-null  int64         \n",
      " 25  review_scores_rating         48036 non-null  float64       \n",
      " 26  review_scores_accuracy       47989 non-null  float64       \n",
      " 27  review_scores_cleanliness    47998 non-null  float64       \n",
      " 28  review_scores_checkin        47972 non-null  float64       \n",
      " 29  review_scores_communication  47991 non-null  float64       \n",
      " 30  review_scores_location       47971 non-null  float64       \n",
      " 31  review_scores_value          47972 non-null  float64       \n",
      " 32  instant_bookable             64690 non-null  object        \n",
      "dtypes: datetime64[ns](1), float64(13), int64(6), object(13)\n",
      "memory usage: 16.8+ MB\n"
     ]
    }
   ],
   "source": [
    "paris_listings.info()"
   ]
  },
  {
   "cell_type": "code",
   "execution_count": 18,
   "id": "d88941db",
   "metadata": {
    "execution": {
     "iopub.execute_input": "2025-01-24T20:48:32.017991Z",
     "iopub.status.busy": "2025-01-24T20:48:32.017607Z",
     "iopub.status.idle": "2025-01-24T20:48:32.057804Z",
     "shell.execute_reply": "2025-01-24T20:48:32.056302Z"
    },
    "papermill": {
     "duration": 0.060687,
     "end_time": "2025-01-24T20:48:32.059914",
     "exception": false,
     "start_time": "2025-01-24T20:48:31.999227",
     "status": "completed"
    },
    "tags": []
   },
   "outputs": [],
   "source": [
    "paris_listings=listings.query(\"city=='Paris'\").loc[:,[\"host_since\",\"neighbourhood\",\"city\",\"accommodates\",\"price\"]]"
   ]
  },
  {
   "cell_type": "markdown",
   "id": "d435e4f1",
   "metadata": {
    "papermill": {
     "duration": 0.016842,
     "end_time": "2025-01-24T20:48:32.094179",
     "exception": false,
     "start_time": "2025-01-24T20:48:32.077337",
     "status": "completed"
    },
    "tags": []
   },
   "source": [
    "## **Displays the first 5 rows** "
   ]
  },
  {
   "cell_type": "code",
   "execution_count": 19,
   "id": "432c0341",
   "metadata": {
    "execution": {
     "iopub.execute_input": "2025-01-24T20:48:32.129540Z",
     "iopub.status.busy": "2025-01-24T20:48:32.129183Z",
     "iopub.status.idle": "2025-01-24T20:48:32.141553Z",
     "shell.execute_reply": "2025-01-24T20:48:32.140608Z"
    },
    "papermill": {
     "duration": 0.032018,
     "end_time": "2025-01-24T20:48:32.143174",
     "exception": false,
     "start_time": "2025-01-24T20:48:32.111156",
     "status": "completed"
    },
    "tags": []
   },
   "outputs": [
    {
     "data": {
      "text/html": [
       "<div>\n",
       "<style scoped>\n",
       "    .dataframe tbody tr th:only-of-type {\n",
       "        vertical-align: middle;\n",
       "    }\n",
       "\n",
       "    .dataframe tbody tr th {\n",
       "        vertical-align: top;\n",
       "    }\n",
       "\n",
       "    .dataframe thead th {\n",
       "        text-align: right;\n",
       "    }\n",
       "</style>\n",
       "<table border=\"1\" class=\"dataframe\">\n",
       "  <thead>\n",
       "    <tr style=\"text-align: right;\">\n",
       "      <th></th>\n",
       "      <th>host_since</th>\n",
       "      <th>neighbourhood</th>\n",
       "      <th>city</th>\n",
       "      <th>accommodates</th>\n",
       "      <th>price</th>\n",
       "    </tr>\n",
       "  </thead>\n",
       "  <tbody>\n",
       "    <tr>\n",
       "      <th>0</th>\n",
       "      <td>2011-12-03</td>\n",
       "      <td>Buttes-Montmartre</td>\n",
       "      <td>Paris</td>\n",
       "      <td>2</td>\n",
       "      <td>53</td>\n",
       "    </tr>\n",
       "    <tr>\n",
       "      <th>1</th>\n",
       "      <td>2013-11-29</td>\n",
       "      <td>Buttes-Montmartre</td>\n",
       "      <td>Paris</td>\n",
       "      <td>2</td>\n",
       "      <td>120</td>\n",
       "    </tr>\n",
       "    <tr>\n",
       "      <th>2</th>\n",
       "      <td>2014-07-31</td>\n",
       "      <td>Elysee</td>\n",
       "      <td>Paris</td>\n",
       "      <td>2</td>\n",
       "      <td>89</td>\n",
       "    </tr>\n",
       "    <tr>\n",
       "      <th>3</th>\n",
       "      <td>2013-12-17</td>\n",
       "      <td>Vaugirard</td>\n",
       "      <td>Paris</td>\n",
       "      <td>2</td>\n",
       "      <td>58</td>\n",
       "    </tr>\n",
       "    <tr>\n",
       "      <th>4</th>\n",
       "      <td>2014-12-14</td>\n",
       "      <td>Passy</td>\n",
       "      <td>Paris</td>\n",
       "      <td>2</td>\n",
       "      <td>60</td>\n",
       "    </tr>\n",
       "    <tr>\n",
       "      <th>...</th>\n",
       "      <td>...</td>\n",
       "      <td>...</td>\n",
       "      <td>...</td>\n",
       "      <td>...</td>\n",
       "      <td>...</td>\n",
       "    </tr>\n",
       "    <tr>\n",
       "      <th>279707</th>\n",
       "      <td>2015-04-13</td>\n",
       "      <td>Observatoire</td>\n",
       "      <td>Paris</td>\n",
       "      <td>2</td>\n",
       "      <td>120</td>\n",
       "    </tr>\n",
       "    <tr>\n",
       "      <th>279708</th>\n",
       "      <td>2013-11-27</td>\n",
       "      <td>Buttes-Montmartre</td>\n",
       "      <td>Paris</td>\n",
       "      <td>2</td>\n",
       "      <td>60</td>\n",
       "    </tr>\n",
       "    <tr>\n",
       "      <th>279709</th>\n",
       "      <td>2012-04-27</td>\n",
       "      <td>Buttes-Montmartre</td>\n",
       "      <td>Paris</td>\n",
       "      <td>2</td>\n",
       "      <td>50</td>\n",
       "    </tr>\n",
       "    <tr>\n",
       "      <th>279710</th>\n",
       "      <td>2015-07-16</td>\n",
       "      <td>Popincourt</td>\n",
       "      <td>Paris</td>\n",
       "      <td>2</td>\n",
       "      <td>105</td>\n",
       "    </tr>\n",
       "    <tr>\n",
       "      <th>279711</th>\n",
       "      <td>2013-06-17</td>\n",
       "      <td>Enclos-St-Laurent</td>\n",
       "      <td>Paris</td>\n",
       "      <td>2</td>\n",
       "      <td>70</td>\n",
       "    </tr>\n",
       "  </tbody>\n",
       "</table>\n",
       "<p>64690 rows × 5 columns</p>\n",
       "</div>"
      ],
      "text/plain": [
       "       host_since      neighbourhood   city  accommodates  price\n",
       "0      2011-12-03  Buttes-Montmartre  Paris             2     53\n",
       "1      2013-11-29  Buttes-Montmartre  Paris             2    120\n",
       "2      2014-07-31             Elysee  Paris             2     89\n",
       "3      2013-12-17          Vaugirard  Paris             2     58\n",
       "4      2014-12-14              Passy  Paris             2     60\n",
       "...           ...                ...    ...           ...    ...\n",
       "279707 2015-04-13       Observatoire  Paris             2    120\n",
       "279708 2013-11-27  Buttes-Montmartre  Paris             2     60\n",
       "279709 2012-04-27  Buttes-Montmartre  Paris             2     50\n",
       "279710 2015-07-16         Popincourt  Paris             2    105\n",
       "279711 2013-06-17  Enclos-St-Laurent  Paris             2     70\n",
       "\n",
       "[64690 rows x 5 columns]"
      ]
     },
     "execution_count": 19,
     "metadata": {},
     "output_type": "execute_result"
    }
   ],
   "source": [
    "paris_listings"
   ]
  },
  {
   "cell_type": "code",
   "execution_count": 20,
   "id": "35617293",
   "metadata": {
    "execution": {
     "iopub.execute_input": "2025-01-24T20:48:32.181466Z",
     "iopub.status.busy": "2025-01-24T20:48:32.181119Z",
     "iopub.status.idle": "2025-01-24T20:48:32.199015Z",
     "shell.execute_reply": "2025-01-24T20:48:32.197445Z"
    },
    "papermill": {
     "duration": 0.039213,
     "end_time": "2025-01-24T20:48:32.200904",
     "exception": false,
     "start_time": "2025-01-24T20:48:32.161691",
     "status": "completed"
    },
    "tags": []
   },
   "outputs": [
    {
     "name": "stdout",
     "output_type": "stream",
     "text": [
      "<class 'pandas.core.frame.DataFrame'>\n",
      "Index: 64690 entries, 0 to 279711\n",
      "Data columns (total 5 columns):\n",
      " #   Column         Non-Null Count  Dtype         \n",
      "---  ------         --------------  -----         \n",
      " 0   host_since     64657 non-null  datetime64[ns]\n",
      " 1   neighbourhood  64690 non-null  object        \n",
      " 2   city           64690 non-null  object        \n",
      " 3   accommodates   64690 non-null  int64         \n",
      " 4   price          64690 non-null  int64         \n",
      "dtypes: datetime64[ns](1), int64(2), object(2)\n",
      "memory usage: 3.0+ MB\n"
     ]
    }
   ],
   "source": [
    "paris_listings.info()"
   ]
  },
  {
   "cell_type": "code",
   "execution_count": 21,
   "id": "3e2b4d76",
   "metadata": {
    "execution": {
     "iopub.execute_input": "2025-01-24T20:48:32.237380Z",
     "iopub.status.busy": "2025-01-24T20:48:32.236992Z",
     "iopub.status.idle": "2025-01-24T20:48:32.256051Z",
     "shell.execute_reply": "2025-01-24T20:48:32.254925Z"
    },
    "papermill": {
     "duration": 0.039412,
     "end_time": "2025-01-24T20:48:32.257994",
     "exception": false,
     "start_time": "2025-01-24T20:48:32.218582",
     "status": "completed"
    },
    "tags": []
   },
   "outputs": [
    {
     "data": {
      "text/html": [
       "<div>\n",
       "<style scoped>\n",
       "    .dataframe tbody tr th:only-of-type {\n",
       "        vertical-align: middle;\n",
       "    }\n",
       "\n",
       "    .dataframe tbody tr th {\n",
       "        vertical-align: top;\n",
       "    }\n",
       "\n",
       "    .dataframe thead th {\n",
       "        text-align: right;\n",
       "    }\n",
       "</style>\n",
       "<table border=\"1\" class=\"dataframe\">\n",
       "  <thead>\n",
       "    <tr style=\"text-align: right;\">\n",
       "      <th></th>\n",
       "      <th>host_since</th>\n",
       "      <th>neighbourhood</th>\n",
       "      <th>city</th>\n",
       "      <th>accommodates</th>\n",
       "      <th>price</th>\n",
       "    </tr>\n",
       "  </thead>\n",
       "  <tbody>\n",
       "    <tr>\n",
       "      <th>0</th>\n",
       "      <td>False</td>\n",
       "      <td>False</td>\n",
       "      <td>False</td>\n",
       "      <td>False</td>\n",
       "      <td>False</td>\n",
       "    </tr>\n",
       "    <tr>\n",
       "      <th>1</th>\n",
       "      <td>False</td>\n",
       "      <td>False</td>\n",
       "      <td>False</td>\n",
       "      <td>False</td>\n",
       "      <td>False</td>\n",
       "    </tr>\n",
       "    <tr>\n",
       "      <th>2</th>\n",
       "      <td>False</td>\n",
       "      <td>False</td>\n",
       "      <td>False</td>\n",
       "      <td>False</td>\n",
       "      <td>False</td>\n",
       "    </tr>\n",
       "    <tr>\n",
       "      <th>3</th>\n",
       "      <td>False</td>\n",
       "      <td>False</td>\n",
       "      <td>False</td>\n",
       "      <td>False</td>\n",
       "      <td>False</td>\n",
       "    </tr>\n",
       "    <tr>\n",
       "      <th>4</th>\n",
       "      <td>False</td>\n",
       "      <td>False</td>\n",
       "      <td>False</td>\n",
       "      <td>False</td>\n",
       "      <td>False</td>\n",
       "    </tr>\n",
       "    <tr>\n",
       "      <th>...</th>\n",
       "      <td>...</td>\n",
       "      <td>...</td>\n",
       "      <td>...</td>\n",
       "      <td>...</td>\n",
       "      <td>...</td>\n",
       "    </tr>\n",
       "    <tr>\n",
       "      <th>279707</th>\n",
       "      <td>False</td>\n",
       "      <td>False</td>\n",
       "      <td>False</td>\n",
       "      <td>False</td>\n",
       "      <td>False</td>\n",
       "    </tr>\n",
       "    <tr>\n",
       "      <th>279708</th>\n",
       "      <td>False</td>\n",
       "      <td>False</td>\n",
       "      <td>False</td>\n",
       "      <td>False</td>\n",
       "      <td>False</td>\n",
       "    </tr>\n",
       "    <tr>\n",
       "      <th>279709</th>\n",
       "      <td>False</td>\n",
       "      <td>False</td>\n",
       "      <td>False</td>\n",
       "      <td>False</td>\n",
       "      <td>False</td>\n",
       "    </tr>\n",
       "    <tr>\n",
       "      <th>279710</th>\n",
       "      <td>False</td>\n",
       "      <td>False</td>\n",
       "      <td>False</td>\n",
       "      <td>False</td>\n",
       "      <td>False</td>\n",
       "    </tr>\n",
       "    <tr>\n",
       "      <th>279711</th>\n",
       "      <td>False</td>\n",
       "      <td>False</td>\n",
       "      <td>False</td>\n",
       "      <td>False</td>\n",
       "      <td>False</td>\n",
       "    </tr>\n",
       "  </tbody>\n",
       "</table>\n",
       "<p>64690 rows × 5 columns</p>\n",
       "</div>"
      ],
      "text/plain": [
       "        host_since  neighbourhood   city  accommodates  price\n",
       "0            False          False  False         False  False\n",
       "1            False          False  False         False  False\n",
       "2            False          False  False         False  False\n",
       "3            False          False  False         False  False\n",
       "4            False          False  False         False  False\n",
       "...            ...            ...    ...           ...    ...\n",
       "279707       False          False  False         False  False\n",
       "279708       False          False  False         False  False\n",
       "279709       False          False  False         False  False\n",
       "279710       False          False  False         False  False\n",
       "279711       False          False  False         False  False\n",
       "\n",
       "[64690 rows x 5 columns]"
      ]
     },
     "execution_count": 21,
     "metadata": {},
     "output_type": "execute_result"
    }
   ],
   "source": [
    "paris_listings.isna()"
   ]
  },
  {
   "cell_type": "markdown",
   "id": "feba66a9",
   "metadata": {
    "papermill": {
     "duration": 0.017405,
     "end_time": "2025-01-24T20:48:32.293251",
     "exception": false,
     "start_time": "2025-01-24T20:48:32.275846",
     "status": "completed"
    },
    "tags": []
   },
   "source": [
    "###  **It count the number of missing values (NaNs) in each column** "
   ]
  },
  {
   "cell_type": "code",
   "execution_count": 22,
   "id": "2109e118",
   "metadata": {
    "execution": {
     "iopub.execute_input": "2025-01-24T20:48:32.329559Z",
     "iopub.status.busy": "2025-01-24T20:48:32.329186Z",
     "iopub.status.idle": "2025-01-24T20:48:32.344624Z",
     "shell.execute_reply": "2025-01-24T20:48:32.343240Z"
    },
    "papermill": {
     "duration": 0.035933,
     "end_time": "2025-01-24T20:48:32.346612",
     "exception": false,
     "start_time": "2025-01-24T20:48:32.310679",
     "status": "completed"
    },
    "tags": []
   },
   "outputs": [
    {
     "data": {
      "text/plain": [
       "host_since       33\n",
       "neighbourhood     0\n",
       "city              0\n",
       "accommodates      0\n",
       "price             0\n",
       "dtype: int64"
      ]
     },
     "execution_count": 22,
     "metadata": {},
     "output_type": "execute_result"
    }
   ],
   "source": [
    "paris_listings.isna().sum()#true is null count of null"
   ]
  },
  {
   "cell_type": "markdown",
   "id": "b3339757",
   "metadata": {
    "papermill": {
     "duration": 0.017602,
     "end_time": "2025-01-24T20:48:32.382004",
     "exception": false,
     "start_time": "2025-01-24T20:48:32.364402",
     "status": "completed"
    },
    "tags": []
   },
   "source": [
    "###  **If any column in a row contains a missing value (NaN), that entire row will be dropped.**"
   ]
  },
  {
   "cell_type": "code",
   "execution_count": 23,
   "id": "72db7544",
   "metadata": {
    "execution": {
     "iopub.execute_input": "2025-01-24T20:48:32.418591Z",
     "iopub.status.busy": "2025-01-24T20:48:32.418202Z",
     "iopub.status.idle": "2025-01-24T20:48:32.433346Z",
     "shell.execute_reply": "2025-01-24T20:48:32.432186Z"
    },
    "papermill": {
     "duration": 0.035655,
     "end_time": "2025-01-24T20:48:32.435328",
     "exception": false,
     "start_time": "2025-01-24T20:48:32.399673",
     "status": "completed"
    },
    "tags": []
   },
   "outputs": [],
   "source": [
    "paris_listings.dropna(how=\"any\",inplace=True)"
   ]
  },
  {
   "cell_type": "markdown",
   "id": "e0bcf267",
   "metadata": {
    "papermill": {
     "duration": 0.017501,
     "end_time": "2025-01-24T20:48:32.471407",
     "exception": false,
     "start_time": "2025-01-24T20:48:32.453906",
     "status": "completed"
    },
    "tags": []
   },
   "source": [
    "## **Information About Dataset**"
   ]
  },
  {
   "cell_type": "code",
   "execution_count": 24,
   "id": "3fc1555e",
   "metadata": {
    "execution": {
     "iopub.execute_input": "2025-01-24T20:48:32.508155Z",
     "iopub.status.busy": "2025-01-24T20:48:32.507781Z",
     "iopub.status.idle": "2025-01-24T20:48:32.525597Z",
     "shell.execute_reply": "2025-01-24T20:48:32.524045Z"
    },
    "papermill": {
     "duration": 0.038424,
     "end_time": "2025-01-24T20:48:32.527518",
     "exception": false,
     "start_time": "2025-01-24T20:48:32.489094",
     "status": "completed"
    },
    "tags": []
   },
   "outputs": [
    {
     "name": "stdout",
     "output_type": "stream",
     "text": [
      "<class 'pandas.core.frame.DataFrame'>\n",
      "Index: 64657 entries, 0 to 279711\n",
      "Data columns (total 5 columns):\n",
      " #   Column         Non-Null Count  Dtype         \n",
      "---  ------         --------------  -----         \n",
      " 0   host_since     64657 non-null  datetime64[ns]\n",
      " 1   neighbourhood  64657 non-null  object        \n",
      " 2   city           64657 non-null  object        \n",
      " 3   accommodates   64657 non-null  int64         \n",
      " 4   price          64657 non-null  int64         \n",
      "dtypes: datetime64[ns](1), int64(2), object(2)\n",
      "memory usage: 3.0+ MB\n"
     ]
    }
   ],
   "source": [
    "paris_listings.info()"
   ]
  },
  {
   "cell_type": "code",
   "execution_count": 25,
   "id": "0b5aff7d",
   "metadata": {
    "execution": {
     "iopub.execute_input": "2025-01-24T20:48:32.565269Z",
     "iopub.status.busy": "2025-01-24T20:48:32.564918Z",
     "iopub.status.idle": "2025-01-24T20:48:32.588682Z",
     "shell.execute_reply": "2025-01-24T20:48:32.587418Z"
    },
    "papermill": {
     "duration": 0.04488,
     "end_time": "2025-01-24T20:48:32.590618",
     "exception": false,
     "start_time": "2025-01-24T20:48:32.545738",
     "status": "completed"
    },
    "tags": []
   },
   "outputs": [
    {
     "data": {
      "text/html": [
       "<div>\n",
       "<style scoped>\n",
       "    .dataframe tbody tr th:only-of-type {\n",
       "        vertical-align: middle;\n",
       "    }\n",
       "\n",
       "    .dataframe tbody tr th {\n",
       "        vertical-align: top;\n",
       "    }\n",
       "\n",
       "    .dataframe thead th {\n",
       "        text-align: right;\n",
       "    }\n",
       "</style>\n",
       "<table border=\"1\" class=\"dataframe\">\n",
       "  <thead>\n",
       "    <tr style=\"text-align: right;\">\n",
       "      <th></th>\n",
       "      <th>host_since</th>\n",
       "      <th>accommodates</th>\n",
       "      <th>price</th>\n",
       "    </tr>\n",
       "  </thead>\n",
       "  <tbody>\n",
       "    <tr>\n",
       "      <th>count</th>\n",
       "      <td>64657</td>\n",
       "      <td>64657.000000</td>\n",
       "      <td>64657.000000</td>\n",
       "    </tr>\n",
       "    <tr>\n",
       "      <th>mean</th>\n",
       "      <td>2015-11-01 11:06:05.528867328</td>\n",
       "      <td>3.037877</td>\n",
       "      <td>113.104614</td>\n",
       "    </tr>\n",
       "    <tr>\n",
       "      <th>min</th>\n",
       "      <td>2008-08-30 00:00:00</td>\n",
       "      <td>0.000000</td>\n",
       "      <td>0.000000</td>\n",
       "    </tr>\n",
       "    <tr>\n",
       "      <th>25%</th>\n",
       "      <td>2014-03-09 00:00:00</td>\n",
       "      <td>2.000000</td>\n",
       "      <td>59.000000</td>\n",
       "    </tr>\n",
       "    <tr>\n",
       "      <th>50%</th>\n",
       "      <td>2015-07-07 00:00:00</td>\n",
       "      <td>2.000000</td>\n",
       "      <td>80.000000</td>\n",
       "    </tr>\n",
       "    <tr>\n",
       "      <th>75%</th>\n",
       "      <td>2017-05-29 00:00:00</td>\n",
       "      <td>4.000000</td>\n",
       "      <td>120.000000</td>\n",
       "    </tr>\n",
       "    <tr>\n",
       "      <th>max</th>\n",
       "      <td>2021-02-07 00:00:00</td>\n",
       "      <td>16.000000</td>\n",
       "      <td>12000.000000</td>\n",
       "    </tr>\n",
       "    <tr>\n",
       "      <th>std</th>\n",
       "      <td>NaN</td>\n",
       "      <td>1.588382</td>\n",
       "      <td>214.479626</td>\n",
       "    </tr>\n",
       "  </tbody>\n",
       "</table>\n",
       "</div>"
      ],
      "text/plain": [
       "                          host_since  accommodates         price\n",
       "count                          64657  64657.000000  64657.000000\n",
       "mean   2015-11-01 11:06:05.528867328      3.037877    113.104614\n",
       "min              2008-08-30 00:00:00      0.000000      0.000000\n",
       "25%              2014-03-09 00:00:00      2.000000     59.000000\n",
       "50%              2015-07-07 00:00:00      2.000000     80.000000\n",
       "75%              2017-05-29 00:00:00      4.000000    120.000000\n",
       "max              2021-02-07 00:00:00     16.000000  12000.000000\n",
       "std                              NaN      1.588382    214.479626"
      ]
     },
     "execution_count": 25,
     "metadata": {},
     "output_type": "execute_result"
    }
   ],
   "source": [
    "paris_listings.describe()"
   ]
  },
  {
   "cell_type": "markdown",
   "id": "e7297f0a",
   "metadata": {
    "papermill": {
     "duration": 0.017802,
     "end_time": "2025-01-24T20:48:32.626646",
     "exception": false,
     "start_time": "2025-01-24T20:48:32.608844",
     "status": "completed"
    },
    "tags": []
   },
   "source": [
    "### **Summarizes categorical columns with count, unique values, most frequent value, and its frequency.**"
   ]
  },
  {
   "cell_type": "code",
   "execution_count": 26,
   "id": "a1db2c0b",
   "metadata": {
    "execution": {
     "iopub.execute_input": "2025-01-24T20:48:32.664769Z",
     "iopub.status.busy": "2025-01-24T20:48:32.664366Z",
     "iopub.status.idle": "2025-01-24T20:48:32.691774Z",
     "shell.execute_reply": "2025-01-24T20:48:32.690556Z"
    },
    "papermill": {
     "duration": 0.048018,
     "end_time": "2025-01-24T20:48:32.693539",
     "exception": false,
     "start_time": "2025-01-24T20:48:32.645521",
     "status": "completed"
    },
    "tags": []
   },
   "outputs": [
    {
     "data": {
      "text/html": [
       "<div>\n",
       "<style scoped>\n",
       "    .dataframe tbody tr th:only-of-type {\n",
       "        vertical-align: middle;\n",
       "    }\n",
       "\n",
       "    .dataframe tbody tr th {\n",
       "        vertical-align: top;\n",
       "    }\n",
       "\n",
       "    .dataframe thead th {\n",
       "        text-align: right;\n",
       "    }\n",
       "</style>\n",
       "<table border=\"1\" class=\"dataframe\">\n",
       "  <thead>\n",
       "    <tr style=\"text-align: right;\">\n",
       "      <th></th>\n",
       "      <th>neighbourhood</th>\n",
       "      <th>city</th>\n",
       "    </tr>\n",
       "  </thead>\n",
       "  <tbody>\n",
       "    <tr>\n",
       "      <th>count</th>\n",
       "      <td>64657</td>\n",
       "      <td>64657</td>\n",
       "    </tr>\n",
       "    <tr>\n",
       "      <th>unique</th>\n",
       "      <td>20</td>\n",
       "      <td>1</td>\n",
       "    </tr>\n",
       "    <tr>\n",
       "      <th>top</th>\n",
       "      <td>Buttes-Montmartre</td>\n",
       "      <td>Paris</td>\n",
       "    </tr>\n",
       "    <tr>\n",
       "      <th>freq</th>\n",
       "      <td>7232</td>\n",
       "      <td>64657</td>\n",
       "    </tr>\n",
       "  </tbody>\n",
       "</table>\n",
       "</div>"
      ],
      "text/plain": [
       "            neighbourhood   city\n",
       "count               64657  64657\n",
       "unique                 20      1\n",
       "top     Buttes-Montmartre  Paris\n",
       "freq                 7232  64657"
      ]
     },
     "execution_count": 26,
     "metadata": {},
     "output_type": "execute_result"
    }
   ],
   "source": [
    "paris_listings.describe(include=\"object\")"
   ]
  },
  {
   "cell_type": "markdown",
   "id": "04e11986",
   "metadata": {
    "papermill": {
     "duration": 0.017869,
     "end_time": "2025-01-24T20:48:32.729907",
     "exception": false,
     "start_time": "2025-01-24T20:48:32.712038",
     "status": "completed"
    },
    "tags": []
   },
   "source": [
    "### **It counts non-missing values column-wise for rows where the accommodates\"column equals 0.**"
   ]
  },
  {
   "cell_type": "code",
   "execution_count": 27,
   "id": "cf01f9eb",
   "metadata": {
    "execution": {
     "iopub.execute_input": "2025-01-24T20:48:32.768623Z",
     "iopub.status.busy": "2025-01-24T20:48:32.768177Z",
     "iopub.status.idle": "2025-01-24T20:48:32.778425Z",
     "shell.execute_reply": "2025-01-24T20:48:32.776973Z"
    },
    "papermill": {
     "duration": 0.03248,
     "end_time": "2025-01-24T20:48:32.780550",
     "exception": false,
     "start_time": "2025-01-24T20:48:32.748070",
     "status": "completed"
    },
    "tags": []
   },
   "outputs": [
    {
     "data": {
      "text/plain": [
       "host_since       54\n",
       "neighbourhood    54\n",
       "city             54\n",
       "accommodates     54\n",
       "price            54\n",
       "dtype: int64"
      ]
     },
     "execution_count": 27,
     "metadata": {},
     "output_type": "execute_result"
    }
   ],
   "source": [
    "paris_listings[paris_listings[\"accommodates\"]==0].count(axis=0)"
   ]
  },
  {
   "cell_type": "markdown",
   "id": "4e7b8faf",
   "metadata": {
    "papermill": {
     "duration": 0.018495,
     "end_time": "2025-01-24T20:48:32.817536",
     "exception": false,
     "start_time": "2025-01-24T20:48:32.799041",
     "status": "completed"
    },
    "tags": []
   },
   "source": [
    "### **It counts non-missing values column-wise for rows where the price column equals 0.**"
   ]
  },
  {
   "cell_type": "code",
   "execution_count": 28,
   "id": "15226d6d",
   "metadata": {
    "execution": {
     "iopub.execute_input": "2025-01-24T20:48:32.855039Z",
     "iopub.status.busy": "2025-01-24T20:48:32.854702Z",
     "iopub.status.idle": "2025-01-24T20:48:32.863870Z",
     "shell.execute_reply": "2025-01-24T20:48:32.862962Z"
    },
    "papermill": {
     "duration": 0.0299,
     "end_time": "2025-01-24T20:48:32.865536",
     "exception": false,
     "start_time": "2025-01-24T20:48:32.835636",
     "status": "completed"
    },
    "tags": []
   },
   "outputs": [
    {
     "data": {
      "text/plain": [
       "host_since       62\n",
       "neighbourhood    62\n",
       "city             62\n",
       "accommodates     62\n",
       "price            62\n",
       "dtype: int64"
      ]
     },
     "execution_count": 28,
     "metadata": {},
     "output_type": "execute_result"
    }
   ],
   "source": [
    "paris_listings[paris_listings[\"price\"]==0].count(axis=0)"
   ]
  },
  {
   "cell_type": "markdown",
   "id": "d3b72a18",
   "metadata": {
    "papermill": {
     "duration": 0.018426,
     "end_time": "2025-01-24T20:48:32.902193",
     "exception": false,
     "start_time": "2025-01-24T20:48:32.883767",
     "status": "completed"
    },
    "tags": []
   },
   "source": [
    "### **To show rows where the accommodates column is not 0 and the price column is 0.**"
   ]
  },
  {
   "cell_type": "code",
   "execution_count": 29,
   "id": "88b2aa3c",
   "metadata": {
    "execution": {
     "iopub.execute_input": "2025-01-24T20:48:32.939941Z",
     "iopub.status.busy": "2025-01-24T20:48:32.939580Z",
     "iopub.status.idle": "2025-01-24T20:48:32.952710Z",
     "shell.execute_reply": "2025-01-24T20:48:32.951181Z"
    },
    "papermill": {
     "duration": 0.034453,
     "end_time": "2025-01-24T20:48:32.954695",
     "exception": false,
     "start_time": "2025-01-24T20:48:32.920242",
     "status": "completed"
    },
    "tags": []
   },
   "outputs": [
    {
     "data": {
      "text/html": [
       "<div>\n",
       "<style scoped>\n",
       "    .dataframe tbody tr th:only-of-type {\n",
       "        vertical-align: middle;\n",
       "    }\n",
       "\n",
       "    .dataframe tbody tr th {\n",
       "        vertical-align: top;\n",
       "    }\n",
       "\n",
       "    .dataframe thead th {\n",
       "        text-align: right;\n",
       "    }\n",
       "</style>\n",
       "<table border=\"1\" class=\"dataframe\">\n",
       "  <thead>\n",
       "    <tr style=\"text-align: right;\">\n",
       "      <th></th>\n",
       "      <th>host_since</th>\n",
       "      <th>neighbourhood</th>\n",
       "      <th>city</th>\n",
       "      <th>accommodates</th>\n",
       "      <th>price</th>\n",
       "    </tr>\n",
       "  </thead>\n",
       "  <tbody>\n",
       "    <tr>\n",
       "      <th>207075</th>\n",
       "      <td>2019-07-22</td>\n",
       "      <td>Vaugirard</td>\n",
       "      <td>Paris</td>\n",
       "      <td>2</td>\n",
       "      <td>0</td>\n",
       "    </tr>\n",
       "    <tr>\n",
       "      <th>207076</th>\n",
       "      <td>2019-10-31</td>\n",
       "      <td>Enclos-St-Laurent</td>\n",
       "      <td>Paris</td>\n",
       "      <td>2</td>\n",
       "      <td>0</td>\n",
       "    </tr>\n",
       "    <tr>\n",
       "      <th>208301</th>\n",
       "      <td>2019-05-27</td>\n",
       "      <td>Palais-Bourbon</td>\n",
       "      <td>Paris</td>\n",
       "      <td>2</td>\n",
       "      <td>0</td>\n",
       "    </tr>\n",
       "    <tr>\n",
       "      <th>208302</th>\n",
       "      <td>2019-07-19</td>\n",
       "      <td>Pantheon</td>\n",
       "      <td>Paris</td>\n",
       "      <td>3</td>\n",
       "      <td>0</td>\n",
       "    </tr>\n",
       "    <tr>\n",
       "      <th>208854</th>\n",
       "      <td>2016-09-16</td>\n",
       "      <td>Louvre</td>\n",
       "      <td>Paris</td>\n",
       "      <td>3</td>\n",
       "      <td>0</td>\n",
       "    </tr>\n",
       "    <tr>\n",
       "      <th>208855</th>\n",
       "      <td>2019-11-06</td>\n",
       "      <td>Luxembourg</td>\n",
       "      <td>Paris</td>\n",
       "      <td>3</td>\n",
       "      <td>0</td>\n",
       "    </tr>\n",
       "    <tr>\n",
       "      <th>208856</th>\n",
       "      <td>2019-12-02</td>\n",
       "      <td>Elysee</td>\n",
       "      <td>Paris</td>\n",
       "      <td>3</td>\n",
       "      <td>0</td>\n",
       "    </tr>\n",
       "    <tr>\n",
       "      <th>208857</th>\n",
       "      <td>2019-12-17</td>\n",
       "      <td>Opera</td>\n",
       "      <td>Paris</td>\n",
       "      <td>2</td>\n",
       "      <td>0</td>\n",
       "    </tr>\n",
       "  </tbody>\n",
       "</table>\n",
       "</div>"
      ],
      "text/plain": [
       "       host_since      neighbourhood   city  accommodates  price\n",
       "207075 2019-07-22          Vaugirard  Paris             2      0\n",
       "207076 2019-10-31  Enclos-St-Laurent  Paris             2      0\n",
       "208301 2019-05-27     Palais-Bourbon  Paris             2      0\n",
       "208302 2019-07-19           Pantheon  Paris             3      0\n",
       "208854 2016-09-16             Louvre  Paris             3      0\n",
       "208855 2019-11-06         Luxembourg  Paris             3      0\n",
       "208856 2019-12-02             Elysee  Paris             3      0\n",
       "208857 2019-12-17              Opera  Paris             2      0"
      ]
     },
     "execution_count": 29,
     "metadata": {},
     "output_type": "execute_result"
    }
   ],
   "source": [
    "paris_listings[(paris_listings[\"accommodates\"]!=0)&(paris_listings[\"price\"]==0)]"
   ]
  },
  {
   "cell_type": "markdown",
   "id": "0d53f72e",
   "metadata": {
    "papermill": {
     "duration": 0.018234,
     "end_time": "2025-01-24T20:48:32.992450",
     "exception": false,
     "start_time": "2025-01-24T20:48:32.974216",
     "status": "completed"
    },
    "tags": []
   },
   "source": [
    "## **Keep only the rows where the price column is not equal to 0**"
   ]
  },
  {
   "cell_type": "code",
   "execution_count": 30,
   "id": "6e89e76b",
   "metadata": {
    "execution": {
     "iopub.execute_input": "2025-01-24T20:48:33.031680Z",
     "iopub.status.busy": "2025-01-24T20:48:33.031276Z",
     "iopub.status.idle": "2025-01-24T20:48:33.039711Z",
     "shell.execute_reply": "2025-01-24T20:48:33.038413Z"
    },
    "papermill": {
     "duration": 0.031029,
     "end_time": "2025-01-24T20:48:33.041972",
     "exception": false,
     "start_time": "2025-01-24T20:48:33.010943",
     "status": "completed"
    },
    "tags": []
   },
   "outputs": [],
   "source": [
    "paris_listings=paris_listings[paris_listings[\"price\"]!=0]"
   ]
  },
  {
   "cell_type": "code",
   "execution_count": 31,
   "id": "8efd3d55",
   "metadata": {
    "execution": {
     "iopub.execute_input": "2025-01-24T20:48:33.081145Z",
     "iopub.status.busy": "2025-01-24T20:48:33.080752Z",
     "iopub.status.idle": "2025-01-24T20:48:33.093143Z",
     "shell.execute_reply": "2025-01-24T20:48:33.092200Z"
    },
    "papermill": {
     "duration": 0.033734,
     "end_time": "2025-01-24T20:48:33.094882",
     "exception": false,
     "start_time": "2025-01-24T20:48:33.061148",
     "status": "completed"
    },
    "tags": []
   },
   "outputs": [
    {
     "data": {
      "text/html": [
       "<div>\n",
       "<style scoped>\n",
       "    .dataframe tbody tr th:only-of-type {\n",
       "        vertical-align: middle;\n",
       "    }\n",
       "\n",
       "    .dataframe tbody tr th {\n",
       "        vertical-align: top;\n",
       "    }\n",
       "\n",
       "    .dataframe thead th {\n",
       "        text-align: right;\n",
       "    }\n",
       "</style>\n",
       "<table border=\"1\" class=\"dataframe\">\n",
       "  <thead>\n",
       "    <tr style=\"text-align: right;\">\n",
       "      <th></th>\n",
       "      <th>host_since</th>\n",
       "      <th>neighbourhood</th>\n",
       "      <th>city</th>\n",
       "      <th>accommodates</th>\n",
       "      <th>price</th>\n",
       "    </tr>\n",
       "  </thead>\n",
       "  <tbody>\n",
       "    <tr>\n",
       "      <th>0</th>\n",
       "      <td>2011-12-03</td>\n",
       "      <td>Buttes-Montmartre</td>\n",
       "      <td>Paris</td>\n",
       "      <td>2</td>\n",
       "      <td>53</td>\n",
       "    </tr>\n",
       "    <tr>\n",
       "      <th>1</th>\n",
       "      <td>2013-11-29</td>\n",
       "      <td>Buttes-Montmartre</td>\n",
       "      <td>Paris</td>\n",
       "      <td>2</td>\n",
       "      <td>120</td>\n",
       "    </tr>\n",
       "    <tr>\n",
       "      <th>2</th>\n",
       "      <td>2014-07-31</td>\n",
       "      <td>Elysee</td>\n",
       "      <td>Paris</td>\n",
       "      <td>2</td>\n",
       "      <td>89</td>\n",
       "    </tr>\n",
       "    <tr>\n",
       "      <th>3</th>\n",
       "      <td>2013-12-17</td>\n",
       "      <td>Vaugirard</td>\n",
       "      <td>Paris</td>\n",
       "      <td>2</td>\n",
       "      <td>58</td>\n",
       "    </tr>\n",
       "    <tr>\n",
       "      <th>4</th>\n",
       "      <td>2014-12-14</td>\n",
       "      <td>Passy</td>\n",
       "      <td>Paris</td>\n",
       "      <td>2</td>\n",
       "      <td>60</td>\n",
       "    </tr>\n",
       "    <tr>\n",
       "      <th>...</th>\n",
       "      <td>...</td>\n",
       "      <td>...</td>\n",
       "      <td>...</td>\n",
       "      <td>...</td>\n",
       "      <td>...</td>\n",
       "    </tr>\n",
       "    <tr>\n",
       "      <th>279707</th>\n",
       "      <td>2015-04-13</td>\n",
       "      <td>Observatoire</td>\n",
       "      <td>Paris</td>\n",
       "      <td>2</td>\n",
       "      <td>120</td>\n",
       "    </tr>\n",
       "    <tr>\n",
       "      <th>279708</th>\n",
       "      <td>2013-11-27</td>\n",
       "      <td>Buttes-Montmartre</td>\n",
       "      <td>Paris</td>\n",
       "      <td>2</td>\n",
       "      <td>60</td>\n",
       "    </tr>\n",
       "    <tr>\n",
       "      <th>279709</th>\n",
       "      <td>2012-04-27</td>\n",
       "      <td>Buttes-Montmartre</td>\n",
       "      <td>Paris</td>\n",
       "      <td>2</td>\n",
       "      <td>50</td>\n",
       "    </tr>\n",
       "    <tr>\n",
       "      <th>279710</th>\n",
       "      <td>2015-07-16</td>\n",
       "      <td>Popincourt</td>\n",
       "      <td>Paris</td>\n",
       "      <td>2</td>\n",
       "      <td>105</td>\n",
       "    </tr>\n",
       "    <tr>\n",
       "      <th>279711</th>\n",
       "      <td>2013-06-17</td>\n",
       "      <td>Enclos-St-Laurent</td>\n",
       "      <td>Paris</td>\n",
       "      <td>2</td>\n",
       "      <td>70</td>\n",
       "    </tr>\n",
       "  </tbody>\n",
       "</table>\n",
       "<p>64595 rows × 5 columns</p>\n",
       "</div>"
      ],
      "text/plain": [
       "       host_since      neighbourhood   city  accommodates  price\n",
       "0      2011-12-03  Buttes-Montmartre  Paris             2     53\n",
       "1      2013-11-29  Buttes-Montmartre  Paris             2    120\n",
       "2      2014-07-31             Elysee  Paris             2     89\n",
       "3      2013-12-17          Vaugirard  Paris             2     58\n",
       "4      2014-12-14              Passy  Paris             2     60\n",
       "...           ...                ...    ...           ...    ...\n",
       "279707 2015-04-13       Observatoire  Paris             2    120\n",
       "279708 2013-11-27  Buttes-Montmartre  Paris             2     60\n",
       "279709 2012-04-27  Buttes-Montmartre  Paris             2     50\n",
       "279710 2015-07-16         Popincourt  Paris             2    105\n",
       "279711 2013-06-17  Enclos-St-Laurent  Paris             2     70\n",
       "\n",
       "[64595 rows x 5 columns]"
      ]
     },
     "execution_count": 31,
     "metadata": {},
     "output_type": "execute_result"
    }
   ],
   "source": [
    "paris_listings"
   ]
  },
  {
   "cell_type": "markdown",
   "id": "0f44d455",
   "metadata": {
    "papermill": {
     "duration": 0.019217,
     "end_time": "2025-01-24T20:48:33.132874",
     "exception": false,
     "start_time": "2025-01-24T20:48:33.113657",
     "status": "completed"
    },
    "tags": []
   },
   "source": [
    "## **Calculates and sorts the average price by neighborhood in descending order.**"
   ]
  },
  {
   "cell_type": "code",
   "execution_count": 32,
   "id": "e4059f37",
   "metadata": {
    "execution": {
     "iopub.execute_input": "2025-01-24T20:48:33.173815Z",
     "iopub.status.busy": "2025-01-24T20:48:33.173406Z",
     "iopub.status.idle": "2025-01-24T20:48:33.189229Z",
     "shell.execute_reply": "2025-01-24T20:48:33.188154Z"
    },
    "papermill": {
     "duration": 0.03961,
     "end_time": "2025-01-24T20:48:33.191511",
     "exception": false,
     "start_time": "2025-01-24T20:48:33.151901",
     "status": "completed"
    },
    "tags": []
   },
   "outputs": [],
   "source": [
    "paris_listings_neighbourhood = paris_listings.groupby(\"neighbourhood\").agg({\"price\":\"mean\"}).sort_values(\"price\",ascending=False).round(2)"
   ]
  },
  {
   "cell_type": "code",
   "execution_count": 33,
   "id": "06935bb7",
   "metadata": {
    "execution": {
     "iopub.execute_input": "2025-01-24T20:48:33.230903Z",
     "iopub.status.busy": "2025-01-24T20:48:33.230469Z",
     "iopub.status.idle": "2025-01-24T20:48:33.240474Z",
     "shell.execute_reply": "2025-01-24T20:48:33.239346Z"
    },
    "papermill": {
     "duration": 0.031977,
     "end_time": "2025-01-24T20:48:33.242395",
     "exception": false,
     "start_time": "2025-01-24T20:48:33.210418",
     "status": "completed"
    },
    "tags": []
   },
   "outputs": [
    {
     "data": {
      "text/html": [
       "<div>\n",
       "<style scoped>\n",
       "    .dataframe tbody tr th:only-of-type {\n",
       "        vertical-align: middle;\n",
       "    }\n",
       "\n",
       "    .dataframe tbody tr th {\n",
       "        vertical-align: top;\n",
       "    }\n",
       "\n",
       "    .dataframe thead th {\n",
       "        text-align: right;\n",
       "    }\n",
       "</style>\n",
       "<table border=\"1\" class=\"dataframe\">\n",
       "  <thead>\n",
       "    <tr style=\"text-align: right;\">\n",
       "      <th></th>\n",
       "      <th>price</th>\n",
       "    </tr>\n",
       "    <tr>\n",
       "      <th>neighbourhood</th>\n",
       "      <th></th>\n",
       "    </tr>\n",
       "  </thead>\n",
       "  <tbody>\n",
       "    <tr>\n",
       "      <th>Elysee</th>\n",
       "      <td>211.37</td>\n",
       "    </tr>\n",
       "    <tr>\n",
       "      <th>Louvre</th>\n",
       "      <td>175.75</td>\n",
       "    </tr>\n",
       "    <tr>\n",
       "      <th>Passy</th>\n",
       "      <td>161.29</td>\n",
       "    </tr>\n",
       "    <tr>\n",
       "      <th>Palais-Bourbon</th>\n",
       "      <td>157.51</td>\n",
       "    </tr>\n",
       "    <tr>\n",
       "      <th>Luxembourg</th>\n",
       "      <td>155.79</td>\n",
       "    </tr>\n",
       "    <tr>\n",
       "      <th>Bourse</th>\n",
       "      <td>149.63</td>\n",
       "    </tr>\n",
       "    <tr>\n",
       "      <th>Hotel-de-Ville</th>\n",
       "      <td>144.52</td>\n",
       "    </tr>\n",
       "    <tr>\n",
       "      <th>Temple</th>\n",
       "      <td>138.43</td>\n",
       "    </tr>\n",
       "    <tr>\n",
       "      <th>Pantheon</th>\n",
       "      <td>122.98</td>\n",
       "    </tr>\n",
       "    <tr>\n",
       "      <th>Opera</th>\n",
       "      <td>119.20</td>\n",
       "    </tr>\n",
       "    <tr>\n",
       "      <th>Vaugirard</th>\n",
       "      <td>107.09</td>\n",
       "    </tr>\n",
       "    <tr>\n",
       "      <th>Enclos-St-Laurent</th>\n",
       "      <td>103.12</td>\n",
       "    </tr>\n",
       "    <tr>\n",
       "      <th>Batignolles-Monceau</th>\n",
       "      <td>102.69</td>\n",
       "    </tr>\n",
       "    <tr>\n",
       "      <th>Observatoire</th>\n",
       "      <td>102.00</td>\n",
       "    </tr>\n",
       "    <tr>\n",
       "      <th>Gobelins</th>\n",
       "      <td>98.11</td>\n",
       "    </tr>\n",
       "    <tr>\n",
       "      <th>Popincourt</th>\n",
       "      <td>90.55</td>\n",
       "    </tr>\n",
       "    <tr>\n",
       "      <th>Reuilly</th>\n",
       "      <td>89.13</td>\n",
       "    </tr>\n",
       "    <tr>\n",
       "      <th>Buttes-Montmartre</th>\n",
       "      <td>87.25</td>\n",
       "    </tr>\n",
       "    <tr>\n",
       "      <th>Buttes-Chaumont</th>\n",
       "      <td>82.69</td>\n",
       "    </tr>\n",
       "    <tr>\n",
       "      <th>Menilmontant</th>\n",
       "      <td>74.93</td>\n",
       "    </tr>\n",
       "  </tbody>\n",
       "</table>\n",
       "</div>"
      ],
      "text/plain": [
       "                      price\n",
       "neighbourhood              \n",
       "Elysee               211.37\n",
       "Louvre               175.75\n",
       "Passy                161.29\n",
       "Palais-Bourbon       157.51\n",
       "Luxembourg           155.79\n",
       "Bourse               149.63\n",
       "Hotel-de-Ville       144.52\n",
       "Temple               138.43\n",
       "Pantheon             122.98\n",
       "Opera                119.20\n",
       "Vaugirard            107.09\n",
       "Enclos-St-Laurent    103.12\n",
       "Batignolles-Monceau  102.69\n",
       "Observatoire         102.00\n",
       "Gobelins              98.11\n",
       "Popincourt            90.55\n",
       "Reuilly               89.13\n",
       "Buttes-Montmartre     87.25\n",
       "Buttes-Chaumont       82.69\n",
       "Menilmontant          74.93"
      ]
     },
     "execution_count": 33,
     "metadata": {},
     "output_type": "execute_result"
    }
   ],
   "source": [
    "paris_listings_neighbourhood"
   ]
  },
  {
   "cell_type": "markdown",
   "id": "ffaf16c1",
   "metadata": {
    "papermill": {
     "duration": 0.018666,
     "end_time": "2025-01-24T20:48:33.279997",
     "exception": false,
     "start_time": "2025-01-24T20:48:33.261331",
     "status": "completed"
    },
    "tags": []
   },
   "source": [
    "## **Displays the top 5 rows**"
   ]
  },
  {
   "cell_type": "code",
   "execution_count": 34,
   "id": "9cb18f4a",
   "metadata": {
    "execution": {
     "iopub.execute_input": "2025-01-24T20:48:33.320403Z",
     "iopub.status.busy": "2025-01-24T20:48:33.319952Z",
     "iopub.status.idle": "2025-01-24T20:48:33.329643Z",
     "shell.execute_reply": "2025-01-24T20:48:33.328478Z"
    },
    "papermill": {
     "duration": 0.032587,
     "end_time": "2025-01-24T20:48:33.331611",
     "exception": false,
     "start_time": "2025-01-24T20:48:33.299024",
     "status": "completed"
    },
    "tags": []
   },
   "outputs": [
    {
     "data": {
      "text/html": [
       "<div>\n",
       "<style scoped>\n",
       "    .dataframe tbody tr th:only-of-type {\n",
       "        vertical-align: middle;\n",
       "    }\n",
       "\n",
       "    .dataframe tbody tr th {\n",
       "        vertical-align: top;\n",
       "    }\n",
       "\n",
       "    .dataframe thead th {\n",
       "        text-align: right;\n",
       "    }\n",
       "</style>\n",
       "<table border=\"1\" class=\"dataframe\">\n",
       "  <thead>\n",
       "    <tr style=\"text-align: right;\">\n",
       "      <th></th>\n",
       "      <th>price</th>\n",
       "    </tr>\n",
       "    <tr>\n",
       "      <th>neighbourhood</th>\n",
       "      <th></th>\n",
       "    </tr>\n",
       "  </thead>\n",
       "  <tbody>\n",
       "    <tr>\n",
       "      <th>Elysee</th>\n",
       "      <td>211.37</td>\n",
       "    </tr>\n",
       "    <tr>\n",
       "      <th>Louvre</th>\n",
       "      <td>175.75</td>\n",
       "    </tr>\n",
       "    <tr>\n",
       "      <th>Passy</th>\n",
       "      <td>161.29</td>\n",
       "    </tr>\n",
       "    <tr>\n",
       "      <th>Palais-Bourbon</th>\n",
       "      <td>157.51</td>\n",
       "    </tr>\n",
       "    <tr>\n",
       "      <th>Luxembourg</th>\n",
       "      <td>155.79</td>\n",
       "    </tr>\n",
       "  </tbody>\n",
       "</table>\n",
       "</div>"
      ],
      "text/plain": [
       "                 price\n",
       "neighbourhood         \n",
       "Elysee          211.37\n",
       "Louvre          175.75\n",
       "Passy           161.29\n",
       "Palais-Bourbon  157.51\n",
       "Luxembourg      155.79"
      ]
     },
     "execution_count": 34,
     "metadata": {},
     "output_type": "execute_result"
    }
   ],
   "source": [
    "paris_listings_neighbourhood.head()"
   ]
  },
  {
   "cell_type": "markdown",
   "id": "bbceeb3d",
   "metadata": {
    "papermill": {
     "duration": 0.018708,
     "end_time": "2025-01-24T20:48:33.369673",
     "exception": false,
     "start_time": "2025-01-24T20:48:33.350965",
     "status": "completed"
    },
    "tags": []
   },
   "source": [
    "## **Displays the bottom 5 rows**"
   ]
  },
  {
   "cell_type": "code",
   "execution_count": 35,
   "id": "e3371c1d",
   "metadata": {
    "execution": {
     "iopub.execute_input": "2025-01-24T20:48:33.466008Z",
     "iopub.status.busy": "2025-01-24T20:48:33.465636Z",
     "iopub.status.idle": "2025-01-24T20:48:33.475115Z",
     "shell.execute_reply": "2025-01-24T20:48:33.474026Z"
    },
    "papermill": {
     "duration": 0.031861,
     "end_time": "2025-01-24T20:48:33.477059",
     "exception": false,
     "start_time": "2025-01-24T20:48:33.445198",
     "status": "completed"
    },
    "tags": []
   },
   "outputs": [
    {
     "data": {
      "text/html": [
       "<div>\n",
       "<style scoped>\n",
       "    .dataframe tbody tr th:only-of-type {\n",
       "        vertical-align: middle;\n",
       "    }\n",
       "\n",
       "    .dataframe tbody tr th {\n",
       "        vertical-align: top;\n",
       "    }\n",
       "\n",
       "    .dataframe thead th {\n",
       "        text-align: right;\n",
       "    }\n",
       "</style>\n",
       "<table border=\"1\" class=\"dataframe\">\n",
       "  <thead>\n",
       "    <tr style=\"text-align: right;\">\n",
       "      <th></th>\n",
       "      <th>price</th>\n",
       "    </tr>\n",
       "    <tr>\n",
       "      <th>neighbourhood</th>\n",
       "      <th></th>\n",
       "    </tr>\n",
       "  </thead>\n",
       "  <tbody>\n",
       "    <tr>\n",
       "      <th>Popincourt</th>\n",
       "      <td>90.55</td>\n",
       "    </tr>\n",
       "    <tr>\n",
       "      <th>Reuilly</th>\n",
       "      <td>89.13</td>\n",
       "    </tr>\n",
       "    <tr>\n",
       "      <th>Buttes-Montmartre</th>\n",
       "      <td>87.25</td>\n",
       "    </tr>\n",
       "    <tr>\n",
       "      <th>Buttes-Chaumont</th>\n",
       "      <td>82.69</td>\n",
       "    </tr>\n",
       "    <tr>\n",
       "      <th>Menilmontant</th>\n",
       "      <td>74.93</td>\n",
       "    </tr>\n",
       "  </tbody>\n",
       "</table>\n",
       "</div>"
      ],
      "text/plain": [
       "                   price\n",
       "neighbourhood           \n",
       "Popincourt         90.55\n",
       "Reuilly            89.13\n",
       "Buttes-Montmartre  87.25\n",
       "Buttes-Chaumont    82.69\n",
       "Menilmontant       74.93"
      ]
     },
     "execution_count": 35,
     "metadata": {},
     "output_type": "execute_result"
    }
   ],
   "source": [
    "paris_listings_neighbourhood.tail()"
   ]
  },
  {
   "cell_type": "markdown",
   "id": "95c39a88",
   "metadata": {
    "papermill": {
     "duration": 0.019171,
     "end_time": "2025-01-24T20:48:33.515556",
     "exception": false,
     "start_time": "2025-01-24T20:48:33.496385",
     "status": "completed"
    },
    "tags": []
   },
   "source": [
    "### **Calculates and sorts the average price by accommodation capacity for the \"Elysee\" neighbourhood.**"
   ]
  },
  {
   "cell_type": "code",
   "execution_count": 36,
   "id": "60bf7dfe",
   "metadata": {
    "execution": {
     "iopub.execute_input": "2025-01-24T20:48:33.555501Z",
     "iopub.status.busy": "2025-01-24T20:48:33.555051Z",
     "iopub.status.idle": "2025-01-24T20:48:33.569584Z",
     "shell.execute_reply": "2025-01-24T20:48:33.568571Z"
    },
    "papermill": {
     "duration": 0.036894,
     "end_time": "2025-01-24T20:48:33.571694",
     "exception": false,
     "start_time": "2025-01-24T20:48:33.534800",
     "status": "completed"
    },
    "tags": []
   },
   "outputs": [],
   "source": [
    "paris_elysee_accommodates = paris_listings.query(\"neighbourhood=='Elysee'\").groupby(\"accommodates\").agg({\"price\":\"mean\"}).sort_values(\"price\",ascending=False).round(2)"
   ]
  },
  {
   "cell_type": "code",
   "execution_count": 37,
   "id": "43e60d22",
   "metadata": {
    "execution": {
     "iopub.execute_input": "2025-01-24T20:48:33.612996Z",
     "iopub.status.busy": "2025-01-24T20:48:33.612582Z",
     "iopub.status.idle": "2025-01-24T20:48:33.622572Z",
     "shell.execute_reply": "2025-01-24T20:48:33.621142Z"
    },
    "papermill": {
     "duration": 0.033376,
     "end_time": "2025-01-24T20:48:33.624922",
     "exception": false,
     "start_time": "2025-01-24T20:48:33.591546",
     "status": "completed"
    },
    "tags": []
   },
   "outputs": [
    {
     "data": {
      "text/html": [
       "<div>\n",
       "<style scoped>\n",
       "    .dataframe tbody tr th:only-of-type {\n",
       "        vertical-align: middle;\n",
       "    }\n",
       "\n",
       "    .dataframe tbody tr th {\n",
       "        vertical-align: top;\n",
       "    }\n",
       "\n",
       "    .dataframe thead th {\n",
       "        text-align: right;\n",
       "    }\n",
       "</style>\n",
       "<table border=\"1\" class=\"dataframe\">\n",
       "  <thead>\n",
       "    <tr style=\"text-align: right;\">\n",
       "      <th></th>\n",
       "      <th>price</th>\n",
       "    </tr>\n",
       "    <tr>\n",
       "      <th>accommodates</th>\n",
       "      <th></th>\n",
       "    </tr>\n",
       "  </thead>\n",
       "  <tbody>\n",
       "    <tr>\n",
       "      <th>14</th>\n",
       "      <td>971.00</td>\n",
       "    </tr>\n",
       "    <tr>\n",
       "      <th>13</th>\n",
       "      <td>842.50</td>\n",
       "    </tr>\n",
       "    <tr>\n",
       "      <th>11</th>\n",
       "      <td>805.00</td>\n",
       "    </tr>\n",
       "    <tr>\n",
       "      <th>16</th>\n",
       "      <td>800.00</td>\n",
       "    </tr>\n",
       "    <tr>\n",
       "      <th>12</th>\n",
       "      <td>529.62</td>\n",
       "    </tr>\n",
       "    <tr>\n",
       "      <th>10</th>\n",
       "      <td>500.86</td>\n",
       "    </tr>\n",
       "    <tr>\n",
       "      <th>9</th>\n",
       "      <td>440.27</td>\n",
       "    </tr>\n",
       "    <tr>\n",
       "      <th>7</th>\n",
       "      <td>411.54</td>\n",
       "    </tr>\n",
       "    <tr>\n",
       "      <th>8</th>\n",
       "      <td>405.52</td>\n",
       "    </tr>\n",
       "    <tr>\n",
       "      <th>6</th>\n",
       "      <td>355.51</td>\n",
       "    </tr>\n",
       "    <tr>\n",
       "      <th>5</th>\n",
       "      <td>328.82</td>\n",
       "    </tr>\n",
       "    <tr>\n",
       "      <th>4</th>\n",
       "      <td>212.10</td>\n",
       "    </tr>\n",
       "    <tr>\n",
       "      <th>2</th>\n",
       "      <td>155.10</td>\n",
       "    </tr>\n",
       "    <tr>\n",
       "      <th>3</th>\n",
       "      <td>153.88</td>\n",
       "    </tr>\n",
       "    <tr>\n",
       "      <th>1</th>\n",
       "      <td>79.52</td>\n",
       "    </tr>\n",
       "  </tbody>\n",
       "</table>\n",
       "</div>"
      ],
      "text/plain": [
       "               price\n",
       "accommodates        \n",
       "14            971.00\n",
       "13            842.50\n",
       "11            805.00\n",
       "16            800.00\n",
       "12            529.62\n",
       "10            500.86\n",
       "9             440.27\n",
       "7             411.54\n",
       "8             405.52\n",
       "6             355.51\n",
       "5             328.82\n",
       "4             212.10\n",
       "2             155.10\n",
       "3             153.88\n",
       "1              79.52"
      ]
     },
     "execution_count": 37,
     "metadata": {},
     "output_type": "execute_result"
    }
   ],
   "source": [
    "paris_elysee_accommodates"
   ]
  },
  {
   "cell_type": "code",
   "execution_count": 38,
   "id": "8b62c51c",
   "metadata": {
    "execution": {
     "iopub.execute_input": "2025-01-24T20:48:33.665401Z",
     "iopub.status.busy": "2025-01-24T20:48:33.665041Z",
     "iopub.status.idle": "2025-01-24T20:48:33.677611Z",
     "shell.execute_reply": "2025-01-24T20:48:33.676535Z"
    },
    "papermill": {
     "duration": 0.034911,
     "end_time": "2025-01-24T20:48:33.679294",
     "exception": false,
     "start_time": "2025-01-24T20:48:33.644383",
     "status": "completed"
    },
    "tags": []
   },
   "outputs": [
    {
     "data": {
      "text/html": [
       "<div>\n",
       "<style scoped>\n",
       "    .dataframe tbody tr th:only-of-type {\n",
       "        vertical-align: middle;\n",
       "    }\n",
       "\n",
       "    .dataframe tbody tr th {\n",
       "        vertical-align: top;\n",
       "    }\n",
       "\n",
       "    .dataframe thead th {\n",
       "        text-align: right;\n",
       "    }\n",
       "</style>\n",
       "<table border=\"1\" class=\"dataframe\">\n",
       "  <thead>\n",
       "    <tr style=\"text-align: right;\">\n",
       "      <th></th>\n",
       "      <th>host_since</th>\n",
       "      <th>neighbourhood</th>\n",
       "      <th>city</th>\n",
       "      <th>accommodates</th>\n",
       "      <th>price</th>\n",
       "    </tr>\n",
       "  </thead>\n",
       "  <tbody>\n",
       "    <tr>\n",
       "      <th>0</th>\n",
       "      <td>2011-12-03</td>\n",
       "      <td>Buttes-Montmartre</td>\n",
       "      <td>Paris</td>\n",
       "      <td>2</td>\n",
       "      <td>53</td>\n",
       "    </tr>\n",
       "    <tr>\n",
       "      <th>1</th>\n",
       "      <td>2013-11-29</td>\n",
       "      <td>Buttes-Montmartre</td>\n",
       "      <td>Paris</td>\n",
       "      <td>2</td>\n",
       "      <td>120</td>\n",
       "    </tr>\n",
       "    <tr>\n",
       "      <th>2</th>\n",
       "      <td>2014-07-31</td>\n",
       "      <td>Elysee</td>\n",
       "      <td>Paris</td>\n",
       "      <td>2</td>\n",
       "      <td>89</td>\n",
       "    </tr>\n",
       "    <tr>\n",
       "      <th>3</th>\n",
       "      <td>2013-12-17</td>\n",
       "      <td>Vaugirard</td>\n",
       "      <td>Paris</td>\n",
       "      <td>2</td>\n",
       "      <td>58</td>\n",
       "    </tr>\n",
       "    <tr>\n",
       "      <th>4</th>\n",
       "      <td>2014-12-14</td>\n",
       "      <td>Passy</td>\n",
       "      <td>Paris</td>\n",
       "      <td>2</td>\n",
       "      <td>60</td>\n",
       "    </tr>\n",
       "    <tr>\n",
       "      <th>...</th>\n",
       "      <td>...</td>\n",
       "      <td>...</td>\n",
       "      <td>...</td>\n",
       "      <td>...</td>\n",
       "      <td>...</td>\n",
       "    </tr>\n",
       "    <tr>\n",
       "      <th>279707</th>\n",
       "      <td>2015-04-13</td>\n",
       "      <td>Observatoire</td>\n",
       "      <td>Paris</td>\n",
       "      <td>2</td>\n",
       "      <td>120</td>\n",
       "    </tr>\n",
       "    <tr>\n",
       "      <th>279708</th>\n",
       "      <td>2013-11-27</td>\n",
       "      <td>Buttes-Montmartre</td>\n",
       "      <td>Paris</td>\n",
       "      <td>2</td>\n",
       "      <td>60</td>\n",
       "    </tr>\n",
       "    <tr>\n",
       "      <th>279709</th>\n",
       "      <td>2012-04-27</td>\n",
       "      <td>Buttes-Montmartre</td>\n",
       "      <td>Paris</td>\n",
       "      <td>2</td>\n",
       "      <td>50</td>\n",
       "    </tr>\n",
       "    <tr>\n",
       "      <th>279710</th>\n",
       "      <td>2015-07-16</td>\n",
       "      <td>Popincourt</td>\n",
       "      <td>Paris</td>\n",
       "      <td>2</td>\n",
       "      <td>105</td>\n",
       "    </tr>\n",
       "    <tr>\n",
       "      <th>279711</th>\n",
       "      <td>2013-06-17</td>\n",
       "      <td>Enclos-St-Laurent</td>\n",
       "      <td>Paris</td>\n",
       "      <td>2</td>\n",
       "      <td>70</td>\n",
       "    </tr>\n",
       "  </tbody>\n",
       "</table>\n",
       "<p>64595 rows × 5 columns</p>\n",
       "</div>"
      ],
      "text/plain": [
       "       host_since      neighbourhood   city  accommodates  price\n",
       "0      2011-12-03  Buttes-Montmartre  Paris             2     53\n",
       "1      2013-11-29  Buttes-Montmartre  Paris             2    120\n",
       "2      2014-07-31             Elysee  Paris             2     89\n",
       "3      2013-12-17          Vaugirard  Paris             2     58\n",
       "4      2014-12-14              Passy  Paris             2     60\n",
       "...           ...                ...    ...           ...    ...\n",
       "279707 2015-04-13       Observatoire  Paris             2    120\n",
       "279708 2013-11-27  Buttes-Montmartre  Paris             2     60\n",
       "279709 2012-04-27  Buttes-Montmartre  Paris             2     50\n",
       "279710 2015-07-16         Popincourt  Paris             2    105\n",
       "279711 2013-06-17  Enclos-St-Laurent  Paris             2     70\n",
       "\n",
       "[64595 rows x 5 columns]"
      ]
     },
     "execution_count": 38,
     "metadata": {},
     "output_type": "execute_result"
    }
   ],
   "source": [
    "paris_listings"
   ]
  },
  {
   "cell_type": "code",
   "execution_count": 39,
   "id": "bfd89aec",
   "metadata": {
    "execution": {
     "iopub.execute_input": "2025-01-24T20:48:33.720365Z",
     "iopub.status.busy": "2025-01-24T20:48:33.719977Z",
     "iopub.status.idle": "2025-01-24T20:48:33.727822Z",
     "shell.execute_reply": "2025-01-24T20:48:33.726795Z"
    },
    "papermill": {
     "duration": 0.030284,
     "end_time": "2025-01-24T20:48:33.729571",
     "exception": false,
     "start_time": "2025-01-24T20:48:33.699287",
     "status": "completed"
    },
    "tags": []
   },
   "outputs": [
    {
     "data": {
      "text/plain": [
       "3854"
      ]
     },
     "execution_count": 39,
     "metadata": {},
     "output_type": "execute_result"
    }
   ],
   "source": [
    "paris_listings[\"host_since\"].nunique()"
   ]
  },
  {
   "cell_type": "code",
   "execution_count": 40,
   "id": "317fa510",
   "metadata": {
    "execution": {
     "iopub.execute_input": "2025-01-24T20:48:33.770733Z",
     "iopub.status.busy": "2025-01-24T20:48:33.770333Z",
     "iopub.status.idle": "2025-01-24T20:48:33.780541Z",
     "shell.execute_reply": "2025-01-24T20:48:33.779591Z"
    },
    "papermill": {
     "duration": 0.032665,
     "end_time": "2025-01-24T20:48:33.782259",
     "exception": false,
     "start_time": "2025-01-24T20:48:33.749594",
     "status": "completed"
    },
    "tags": []
   },
   "outputs": [
    {
     "data": {
      "text/html": [
       "<div>\n",
       "<style scoped>\n",
       "    .dataframe tbody tr th:only-of-type {\n",
       "        vertical-align: middle;\n",
       "    }\n",
       "\n",
       "    .dataframe tbody tr th {\n",
       "        vertical-align: top;\n",
       "    }\n",
       "\n",
       "    .dataframe thead th {\n",
       "        text-align: right;\n",
       "    }\n",
       "</style>\n",
       "<table border=\"1\" class=\"dataframe\">\n",
       "  <thead>\n",
       "    <tr style=\"text-align: right;\">\n",
       "      <th></th>\n",
       "      <th>host_since</th>\n",
       "      <th>neighbourhood</th>\n",
       "      <th>city</th>\n",
       "      <th>accommodates</th>\n",
       "      <th>price</th>\n",
       "    </tr>\n",
       "  </thead>\n",
       "  <tbody>\n",
       "    <tr>\n",
       "      <th>0</th>\n",
       "      <td>2011-12-03</td>\n",
       "      <td>Buttes-Montmartre</td>\n",
       "      <td>Paris</td>\n",
       "      <td>2</td>\n",
       "      <td>53</td>\n",
       "    </tr>\n",
       "    <tr>\n",
       "      <th>1</th>\n",
       "      <td>2013-11-29</td>\n",
       "      <td>Buttes-Montmartre</td>\n",
       "      <td>Paris</td>\n",
       "      <td>2</td>\n",
       "      <td>120</td>\n",
       "    </tr>\n",
       "    <tr>\n",
       "      <th>2</th>\n",
       "      <td>2014-07-31</td>\n",
       "      <td>Elysee</td>\n",
       "      <td>Paris</td>\n",
       "      <td>2</td>\n",
       "      <td>89</td>\n",
       "    </tr>\n",
       "    <tr>\n",
       "      <th>3</th>\n",
       "      <td>2013-12-17</td>\n",
       "      <td>Vaugirard</td>\n",
       "      <td>Paris</td>\n",
       "      <td>2</td>\n",
       "      <td>58</td>\n",
       "    </tr>\n",
       "    <tr>\n",
       "      <th>4</th>\n",
       "      <td>2014-12-14</td>\n",
       "      <td>Passy</td>\n",
       "      <td>Paris</td>\n",
       "      <td>2</td>\n",
       "      <td>60</td>\n",
       "    </tr>\n",
       "  </tbody>\n",
       "</table>\n",
       "</div>"
      ],
      "text/plain": [
       "  host_since      neighbourhood   city  accommodates  price\n",
       "0 2011-12-03  Buttes-Montmartre  Paris             2     53\n",
       "1 2013-11-29  Buttes-Montmartre  Paris             2    120\n",
       "2 2014-07-31             Elysee  Paris             2     89\n",
       "3 2013-12-17          Vaugirard  Paris             2     58\n",
       "4 2014-12-14              Passy  Paris             2     60"
      ]
     },
     "execution_count": 40,
     "metadata": {},
     "output_type": "execute_result"
    }
   ],
   "source": [
    "paris_listings.head()"
   ]
  },
  {
   "cell_type": "markdown",
   "id": "3e79f60d",
   "metadata": {
    "papermill": {
     "duration": 0.019707,
     "end_time": "2025-01-24T20:48:33.823230",
     "exception": false,
     "start_time": "2025-01-24T20:48:33.803523",
     "status": "completed"
    },
    "tags": []
   },
   "source": [
    "### **Resamples data by year, counting listings and calculating the average price per year.**"
   ]
  },
  {
   "cell_type": "code",
   "execution_count": 41,
   "id": "d11bb4cd",
   "metadata": {
    "execution": {
     "iopub.execute_input": "2025-01-24T20:48:33.864144Z",
     "iopub.status.busy": "2025-01-24T20:48:33.863684Z",
     "iopub.status.idle": "2025-01-24T20:48:33.911560Z",
     "shell.execute_reply": "2025-01-24T20:48:33.910072Z"
    },
    "papermill": {
     "duration": 0.071035,
     "end_time": "2025-01-24T20:48:33.913919",
     "exception": false,
     "start_time": "2025-01-24T20:48:33.842884",
     "status": "completed"
    },
    "tags": []
   },
   "outputs": [],
   "source": [
    "paris_llistings_over_time=paris_listings.set_index(\"host_since\").resample(\"Y\").agg({\"neighbourhood\":\"count\",\"price\":\"mean\"})"
   ]
  },
  {
   "cell_type": "code",
   "execution_count": 42,
   "id": "4fe08dfb",
   "metadata": {
    "execution": {
     "iopub.execute_input": "2025-01-24T20:48:33.956647Z",
     "iopub.status.busy": "2025-01-24T20:48:33.956223Z",
     "iopub.status.idle": "2025-01-24T20:48:33.965816Z",
     "shell.execute_reply": "2025-01-24T20:48:33.964678Z"
    },
    "papermill": {
     "duration": 0.033309,
     "end_time": "2025-01-24T20:48:33.967659",
     "exception": false,
     "start_time": "2025-01-24T20:48:33.934350",
     "status": "completed"
    },
    "tags": []
   },
   "outputs": [
    {
     "data": {
      "text/html": [
       "<div>\n",
       "<style scoped>\n",
       "    .dataframe tbody tr th:only-of-type {\n",
       "        vertical-align: middle;\n",
       "    }\n",
       "\n",
       "    .dataframe tbody tr th {\n",
       "        vertical-align: top;\n",
       "    }\n",
       "\n",
       "    .dataframe thead th {\n",
       "        text-align: right;\n",
       "    }\n",
       "</style>\n",
       "<table border=\"1\" class=\"dataframe\">\n",
       "  <thead>\n",
       "    <tr style=\"text-align: right;\">\n",
       "      <th></th>\n",
       "      <th>neighbourhood</th>\n",
       "      <th>price</th>\n",
       "    </tr>\n",
       "    <tr>\n",
       "      <th>host_since</th>\n",
       "      <th></th>\n",
       "      <th></th>\n",
       "    </tr>\n",
       "  </thead>\n",
       "  <tbody>\n",
       "    <tr>\n",
       "      <th>2008-12-31</th>\n",
       "      <td>4</td>\n",
       "      <td>77.750000</td>\n",
       "    </tr>\n",
       "    <tr>\n",
       "      <th>2009-12-31</th>\n",
       "      <td>106</td>\n",
       "      <td>159.641509</td>\n",
       "    </tr>\n",
       "    <tr>\n",
       "      <th>2010-12-31</th>\n",
       "      <td>416</td>\n",
       "      <td>125.031250</td>\n",
       "    </tr>\n",
       "    <tr>\n",
       "      <th>2011-12-31</th>\n",
       "      <td>1339</td>\n",
       "      <td>124.828230</td>\n",
       "    </tr>\n",
       "    <tr>\n",
       "      <th>2012-12-31</th>\n",
       "      <td>4592</td>\n",
       "      <td>111.578615</td>\n",
       "    </tr>\n",
       "    <tr>\n",
       "      <th>2013-12-31</th>\n",
       "      <td>8142</td>\n",
       "      <td>107.096414</td>\n",
       "    </tr>\n",
       "    <tr>\n",
       "      <th>2014-12-31</th>\n",
       "      <td>10922</td>\n",
       "      <td>100.253800</td>\n",
       "    </tr>\n",
       "    <tr>\n",
       "      <th>2015-12-31</th>\n",
       "      <td>12147</td>\n",
       "      <td>103.646250</td>\n",
       "    </tr>\n",
       "    <tr>\n",
       "      <th>2016-12-31</th>\n",
       "      <td>8867</td>\n",
       "      <td>114.211345</td>\n",
       "    </tr>\n",
       "    <tr>\n",
       "      <th>2017-12-31</th>\n",
       "      <td>4585</td>\n",
       "      <td>108.658888</td>\n",
       "    </tr>\n",
       "    <tr>\n",
       "      <th>2018-12-31</th>\n",
       "      <td>4294</td>\n",
       "      <td>138.209362</td>\n",
       "    </tr>\n",
       "    <tr>\n",
       "      <th>2019-12-31</th>\n",
       "      <td>5685</td>\n",
       "      <td>129.962533</td>\n",
       "    </tr>\n",
       "    <tr>\n",
       "      <th>2020-12-31</th>\n",
       "      <td>3363</td>\n",
       "      <td>143.517098</td>\n",
       "    </tr>\n",
       "    <tr>\n",
       "      <th>2021-12-31</th>\n",
       "      <td>133</td>\n",
       "      <td>93.488722</td>\n",
       "    </tr>\n",
       "  </tbody>\n",
       "</table>\n",
       "</div>"
      ],
      "text/plain": [
       "            neighbourhood       price\n",
       "host_since                           \n",
       "2008-12-31              4   77.750000\n",
       "2009-12-31            106  159.641509\n",
       "2010-12-31            416  125.031250\n",
       "2011-12-31           1339  124.828230\n",
       "2012-12-31           4592  111.578615\n",
       "2013-12-31           8142  107.096414\n",
       "2014-12-31          10922  100.253800\n",
       "2015-12-31          12147  103.646250\n",
       "2016-12-31           8867  114.211345\n",
       "2017-12-31           4585  108.658888\n",
       "2018-12-31           4294  138.209362\n",
       "2019-12-31           5685  129.962533\n",
       "2020-12-31           3363  143.517098\n",
       "2021-12-31            133   93.488722"
      ]
     },
     "execution_count": 42,
     "metadata": {},
     "output_type": "execute_result"
    }
   ],
   "source": [
    "paris_llistings_over_time #bin in 31 december"
   ]
  },
  {
   "cell_type": "code",
   "execution_count": 43,
   "id": "671c6e27",
   "metadata": {
    "execution": {
     "iopub.execute_input": "2025-01-24T20:48:34.010061Z",
     "iopub.status.busy": "2025-01-24T20:48:34.009655Z",
     "iopub.status.idle": "2025-01-24T20:48:34.015898Z",
     "shell.execute_reply": "2025-01-24T20:48:34.014895Z"
    },
    "papermill": {
     "duration": 0.02955,
     "end_time": "2025-01-24T20:48:34.017708",
     "exception": false,
     "start_time": "2025-01-24T20:48:33.988158",
     "status": "completed"
    },
    "tags": []
   },
   "outputs": [
    {
     "data": {
      "text/plain": [
       "(14, 2)"
      ]
     },
     "execution_count": 43,
     "metadata": {},
     "output_type": "execute_result"
    }
   ],
   "source": [
    "paris_llistings_over_time.shape"
   ]
  },
  {
   "cell_type": "markdown",
   "id": "abb9aa83",
   "metadata": {
    "papermill": {
     "duration": 0.020525,
     "end_time": "2025-01-24T20:48:34.058609",
     "exception": false,
     "start_time": "2025-01-24T20:48:34.038084",
     "status": "completed"
    },
    "tags": []
   },
   "source": [
    " # **Imports libraries**"
   ]
  },
  {
   "cell_type": "code",
   "execution_count": 44,
   "id": "c9bb7f46",
   "metadata": {
    "execution": {
     "iopub.execute_input": "2025-01-24T20:48:34.100450Z",
     "iopub.status.busy": "2025-01-24T20:48:34.100089Z",
     "iopub.status.idle": "2025-01-24T20:48:35.897874Z",
     "shell.execute_reply": "2025-01-24T20:48:35.896725Z"
    },
    "papermill": {
     "duration": 1.820759,
     "end_time": "2025-01-24T20:48:35.899751",
     "exception": false,
     "start_time": "2025-01-24T20:48:34.078992",
     "status": "completed"
    },
    "tags": []
   },
   "outputs": [],
   "source": [
    "import matplotlib.pyplot as plt\n",
    "import seaborn as sns"
   ]
  },
  {
   "cell_type": "code",
   "execution_count": 45,
   "id": "0b640844",
   "metadata": {
    "execution": {
     "iopub.execute_input": "2025-01-24T20:48:35.946454Z",
     "iopub.status.busy": "2025-01-24T20:48:35.945881Z",
     "iopub.status.idle": "2025-01-24T20:48:35.957666Z",
     "shell.execute_reply": "2025-01-24T20:48:35.956594Z"
    },
    "papermill": {
     "duration": 0.038715,
     "end_time": "2025-01-24T20:48:35.959705",
     "exception": false,
     "start_time": "2025-01-24T20:48:35.920990",
     "status": "completed"
    },
    "tags": []
   },
   "outputs": [
    {
     "data": {
      "text/html": [
       "<div>\n",
       "<style scoped>\n",
       "    .dataframe tbody tr th:only-of-type {\n",
       "        vertical-align: middle;\n",
       "    }\n",
       "\n",
       "    .dataframe tbody tr th {\n",
       "        vertical-align: top;\n",
       "    }\n",
       "\n",
       "    .dataframe thead th {\n",
       "        text-align: right;\n",
       "    }\n",
       "</style>\n",
       "<table border=\"1\" class=\"dataframe\">\n",
       "  <thead>\n",
       "    <tr style=\"text-align: right;\">\n",
       "      <th></th>\n",
       "      <th>price</th>\n",
       "    </tr>\n",
       "    <tr>\n",
       "      <th>neighbourhood</th>\n",
       "      <th></th>\n",
       "    </tr>\n",
       "  </thead>\n",
       "  <tbody>\n",
       "    <tr>\n",
       "      <th>Elysee</th>\n",
       "      <td>211.37</td>\n",
       "    </tr>\n",
       "    <tr>\n",
       "      <th>Louvre</th>\n",
       "      <td>175.75</td>\n",
       "    </tr>\n",
       "    <tr>\n",
       "      <th>Passy</th>\n",
       "      <td>161.29</td>\n",
       "    </tr>\n",
       "    <tr>\n",
       "      <th>Palais-Bourbon</th>\n",
       "      <td>157.51</td>\n",
       "    </tr>\n",
       "    <tr>\n",
       "      <th>Luxembourg</th>\n",
       "      <td>155.79</td>\n",
       "    </tr>\n",
       "    <tr>\n",
       "      <th>Bourse</th>\n",
       "      <td>149.63</td>\n",
       "    </tr>\n",
       "    <tr>\n",
       "      <th>Hotel-de-Ville</th>\n",
       "      <td>144.52</td>\n",
       "    </tr>\n",
       "    <tr>\n",
       "      <th>Temple</th>\n",
       "      <td>138.43</td>\n",
       "    </tr>\n",
       "    <tr>\n",
       "      <th>Pantheon</th>\n",
       "      <td>122.98</td>\n",
       "    </tr>\n",
       "    <tr>\n",
       "      <th>Opera</th>\n",
       "      <td>119.20</td>\n",
       "    </tr>\n",
       "    <tr>\n",
       "      <th>Vaugirard</th>\n",
       "      <td>107.09</td>\n",
       "    </tr>\n",
       "    <tr>\n",
       "      <th>Enclos-St-Laurent</th>\n",
       "      <td>103.12</td>\n",
       "    </tr>\n",
       "    <tr>\n",
       "      <th>Batignolles-Monceau</th>\n",
       "      <td>102.69</td>\n",
       "    </tr>\n",
       "    <tr>\n",
       "      <th>Observatoire</th>\n",
       "      <td>102.00</td>\n",
       "    </tr>\n",
       "    <tr>\n",
       "      <th>Gobelins</th>\n",
       "      <td>98.11</td>\n",
       "    </tr>\n",
       "    <tr>\n",
       "      <th>Popincourt</th>\n",
       "      <td>90.55</td>\n",
       "    </tr>\n",
       "    <tr>\n",
       "      <th>Reuilly</th>\n",
       "      <td>89.13</td>\n",
       "    </tr>\n",
       "    <tr>\n",
       "      <th>Buttes-Montmartre</th>\n",
       "      <td>87.25</td>\n",
       "    </tr>\n",
       "    <tr>\n",
       "      <th>Buttes-Chaumont</th>\n",
       "      <td>82.69</td>\n",
       "    </tr>\n",
       "    <tr>\n",
       "      <th>Menilmontant</th>\n",
       "      <td>74.93</td>\n",
       "    </tr>\n",
       "  </tbody>\n",
       "</table>\n",
       "</div>"
      ],
      "text/plain": [
       "                      price\n",
       "neighbourhood              \n",
       "Elysee               211.37\n",
       "Louvre               175.75\n",
       "Passy                161.29\n",
       "Palais-Bourbon       157.51\n",
       "Luxembourg           155.79\n",
       "Bourse               149.63\n",
       "Hotel-de-Ville       144.52\n",
       "Temple               138.43\n",
       "Pantheon             122.98\n",
       "Opera                119.20\n",
       "Vaugirard            107.09\n",
       "Enclos-St-Laurent    103.12\n",
       "Batignolles-Monceau  102.69\n",
       "Observatoire         102.00\n",
       "Gobelins              98.11\n",
       "Popincourt            90.55\n",
       "Reuilly               89.13\n",
       "Buttes-Montmartre     87.25\n",
       "Buttes-Chaumont       82.69\n",
       "Menilmontant          74.93"
      ]
     },
     "execution_count": 45,
     "metadata": {},
     "output_type": "execute_result"
    }
   ],
   "source": [
    "paris_listings_neighbourhood"
   ]
  },
  {
   "cell_type": "markdown",
   "id": "529df0ed",
   "metadata": {
    "papermill": {
     "duration": 0.020634,
     "end_time": "2025-01-24T20:48:36.001324",
     "exception": false,
     "start_time": "2025-01-24T20:48:35.980690",
     "status": "completed"
    },
    "tags": []
   },
   "source": [
    "#### **Creates a bar plot showing the average price by neighbourhood in Paris, with prominent areas at the top. Customizes the plot with a title, labels, and removes the grid.**"
   ]
  },
  {
   "cell_type": "code",
   "execution_count": 46,
   "id": "d3abc457",
   "metadata": {
    "execution": {
     "iopub.execute_input": "2025-01-24T20:48:36.044567Z",
     "iopub.status.busy": "2025-01-24T20:48:36.044164Z",
     "iopub.status.idle": "2025-01-24T20:48:36.566177Z",
     "shell.execute_reply": "2025-01-24T20:48:36.565027Z"
    },
    "papermill": {
     "duration": 0.546151,
     "end_time": "2025-01-24T20:48:36.568627",
     "exception": false,
     "start_time": "2025-01-24T20:48:36.022476",
     "status": "completed"
    },
    "tags": []
   },
   "outputs": [
    {
     "data": {
      "text/plain": [
       "<function matplotlib.pyplot.show(close=None, block=None)>"
      ]
     },
     "execution_count": 46,
     "metadata": {},
     "output_type": "execute_result"
    },
    {
     "data": {
      "image/png": "[encoded data removed]",
      "text/plain": [
       "<Figure size 1000x800 with 1 Axes>"
      ]
     },
     "metadata": {},
     "output_type": "display_data"
    }
   ],
   "source": [
    "plt.figure(figsize=(10,8))\n",
    "sns.barplot(data = paris_listings_neighbourhood,\n",
    "            x=\"price\",\n",
    "            y=paris_listings_neighbourhood.index,\n",
    "            color=\"blue\")\n",
    "plt.title(\"Neighbourhoods in Paris (Premium ones at the top!)\")\n",
    "plt.xlabel(\"How Expensive?(Euros)\")\n",
    "plt.ylabel(\"Prominent Places with AirBnBs\")\n",
    "plt.grid(False)\n",
    "plt.show"
   ]
  },
  {
   "cell_type": "markdown",
   "id": "b1a09520",
   "metadata": {
    "papermill": {
     "duration": 0.022156,
     "end_time": "2025-01-24T20:48:36.613833",
     "exception": false,
     "start_time": "2025-01-24T20:48:36.591677",
     "status": "completed"
    },
    "tags": []
   },
   "source": [
    "### **Inside of paris, the price of airbnb is directly impacted by the popularity of tourist place.The view of Eiffel tower.We need to further see if the prices are increaseing when the regulation are imposed.**"
   ]
  },
  {
   "cell_type": "code",
   "execution_count": 47,
   "id": "5623ff25",
   "metadata": {
    "execution": {
     "iopub.execute_input": "2025-01-24T20:48:36.659993Z",
     "iopub.status.busy": "2025-01-24T20:48:36.659601Z",
     "iopub.status.idle": "2025-01-24T20:48:36.668948Z",
     "shell.execute_reply": "2025-01-24T20:48:36.667973Z"
    },
    "papermill": {
     "duration": 0.034485,
     "end_time": "2025-01-24T20:48:36.670598",
     "exception": false,
     "start_time": "2025-01-24T20:48:36.636113",
     "status": "completed"
    },
    "tags": []
   },
   "outputs": [
    {
     "data": {
      "text/html": [
       "<div>\n",
       "<style scoped>\n",
       "    .dataframe tbody tr th:only-of-type {\n",
       "        vertical-align: middle;\n",
       "    }\n",
       "\n",
       "    .dataframe tbody tr th {\n",
       "        vertical-align: top;\n",
       "    }\n",
       "\n",
       "    .dataframe thead th {\n",
       "        text-align: right;\n",
       "    }\n",
       "</style>\n",
       "<table border=\"1\" class=\"dataframe\">\n",
       "  <thead>\n",
       "    <tr style=\"text-align: right;\">\n",
       "      <th></th>\n",
       "      <th>price</th>\n",
       "    </tr>\n",
       "    <tr>\n",
       "      <th>accommodates</th>\n",
       "      <th></th>\n",
       "    </tr>\n",
       "  </thead>\n",
       "  <tbody>\n",
       "    <tr>\n",
       "      <th>14</th>\n",
       "      <td>971.00</td>\n",
       "    </tr>\n",
       "    <tr>\n",
       "      <th>13</th>\n",
       "      <td>842.50</td>\n",
       "    </tr>\n",
       "    <tr>\n",
       "      <th>11</th>\n",
       "      <td>805.00</td>\n",
       "    </tr>\n",
       "    <tr>\n",
       "      <th>16</th>\n",
       "      <td>800.00</td>\n",
       "    </tr>\n",
       "    <tr>\n",
       "      <th>12</th>\n",
       "      <td>529.62</td>\n",
       "    </tr>\n",
       "    <tr>\n",
       "      <th>10</th>\n",
       "      <td>500.86</td>\n",
       "    </tr>\n",
       "    <tr>\n",
       "      <th>9</th>\n",
       "      <td>440.27</td>\n",
       "    </tr>\n",
       "    <tr>\n",
       "      <th>7</th>\n",
       "      <td>411.54</td>\n",
       "    </tr>\n",
       "    <tr>\n",
       "      <th>8</th>\n",
       "      <td>405.52</td>\n",
       "    </tr>\n",
       "    <tr>\n",
       "      <th>6</th>\n",
       "      <td>355.51</td>\n",
       "    </tr>\n",
       "    <tr>\n",
       "      <th>5</th>\n",
       "      <td>328.82</td>\n",
       "    </tr>\n",
       "    <tr>\n",
       "      <th>4</th>\n",
       "      <td>212.10</td>\n",
       "    </tr>\n",
       "    <tr>\n",
       "      <th>2</th>\n",
       "      <td>155.10</td>\n",
       "    </tr>\n",
       "    <tr>\n",
       "      <th>3</th>\n",
       "      <td>153.88</td>\n",
       "    </tr>\n",
       "    <tr>\n",
       "      <th>1</th>\n",
       "      <td>79.52</td>\n",
       "    </tr>\n",
       "  </tbody>\n",
       "</table>\n",
       "</div>"
      ],
      "text/plain": [
       "               price\n",
       "accommodates        \n",
       "14            971.00\n",
       "13            842.50\n",
       "11            805.00\n",
       "16            800.00\n",
       "12            529.62\n",
       "10            500.86\n",
       "9             440.27\n",
       "7             411.54\n",
       "8             405.52\n",
       "6             355.51\n",
       "5             328.82\n",
       "4             212.10\n",
       "2             155.10\n",
       "3             153.88\n",
       "1              79.52"
      ]
     },
     "execution_count": 47,
     "metadata": {},
     "output_type": "execute_result"
    }
   ],
   "source": [
    "paris_elysee_accommodates"
   ]
  },
  {
   "cell_type": "markdown",
   "id": "8e5c6492",
   "metadata": {
    "papermill": {
     "duration": 0.021659,
     "end_time": "2025-01-24T20:48:36.714469",
     "exception": false,
     "start_time": "2025-01-24T20:48:36.692810",
     "status": "completed"
    },
    "tags": []
   },
   "source": [
    "### **Plots average Airbnb price in Elysee by accommodation capacity, with custom labels and no grid.**"
   ]
  },
  {
   "cell_type": "code",
   "execution_count": 48,
   "id": "b10ac543",
   "metadata": {
    "execution": {
     "iopub.execute_input": "2025-01-24T20:48:36.760166Z",
     "iopub.status.busy": "2025-01-24T20:48:36.759768Z",
     "iopub.status.idle": "2025-01-24T20:48:37.174429Z",
     "shell.execute_reply": "2025-01-24T20:48:37.173058Z"
    },
    "papermill": {
     "duration": 0.44044,
     "end_time": "2025-01-24T20:48:37.177005",
     "exception": false,
     "start_time": "2025-01-24T20:48:36.736565",
     "status": "completed"
    },
    "tags": []
   },
   "outputs": [
    {
     "data": {
      "text/plain": [
       "<function matplotlib.pyplot.show(close=None, block=None)>"
      ]
     },
     "execution_count": 48,
     "metadata": {},
     "output_type": "execute_result"
    },
    {
     "data": {
      "image/png": "[encoded data removed]",
      "text/plain": [
       "<Figure size 1000x800 with 1 Axes>"
      ]
     },
     "metadata": {},
     "output_type": "display_data"
    }
   ],
   "source": [
    "plt.figure(figsize=(10,8))\n",
    "sns.barplot(data = paris_elysee_accommodates,\n",
    "            x=\"price\",\n",
    "            y=paris_elysee_accommodates.index,\n",
    "            color=\"#FF5A4F\",orient=\"h\",order = paris_elysee_accommodates.index)\n",
    "plt.title(\"Average Price of Airbnb--VS-- Number of people that can stay \")\n",
    "plt.xlabel(\"How Expensive?(Euros)\")\n",
    "plt.ylabel(\"Number of People that can stay\")\n",
    "plt.grid(True)\n",
    "\n",
    "plt.show"
   ]
  },
  {
   "cell_type": "markdown",
   "id": "6e024b1a",
   "metadata": {
    "papermill": {
     "duration": 0.02252,
     "end_time": "2025-01-24T20:48:37.223475",
     "exception": false,
     "start_time": "2025-01-24T20:48:37.200955",
     "status": "completed"
    },
    "tags": []
   },
   "source": [
    "###  **The Airbnbs with 14 people accomodation is the costliest ,even costlier than 16 accommodates.The same trends is spotted for 11 and 12 accomodates.Every other accommodation looks reasonable.**\n"
   ]
  },
  {
   "cell_type": "markdown",
   "id": "d3d44be1",
   "metadata": {
    "papermill": {
     "duration": 0.022779,
     "end_time": "2025-01-24T20:48:37.270301",
     "exception": false,
     "start_time": "2025-01-24T20:48:37.247522",
     "status": "completed"
    },
    "tags": []
   },
   "source": [
    "# Possible reasons for this trend\n",
    "1. Owners of properties with 16 people might face occupancy issues due to less number of large groups.\n",
    "2. the ones with 14 people might be a sweet spot for a group having two families travelling.\n",
    "3. their is possibility that more 16 and 12 occupancy properties are away for hotspots in Elysee.\n",
    "4. There might be potential outliers in 11 and 14 occpancy properties which are skewing the trend."
   ]
  },
  {
   "cell_type": "code",
   "execution_count": 49,
   "id": "8287e392",
   "metadata": {
    "execution": {
     "iopub.execute_input": "2025-01-24T20:48:37.320644Z",
     "iopub.status.busy": "2025-01-24T20:48:37.320235Z",
     "iopub.status.idle": "2025-01-24T20:48:37.330234Z",
     "shell.execute_reply": "2025-01-24T20:48:37.329044Z"
    },
    "papermill": {
     "duration": 0.037666,
     "end_time": "2025-01-24T20:48:37.332147",
     "exception": false,
     "start_time": "2025-01-24T20:48:37.294481",
     "status": "completed"
    },
    "tags": []
   },
   "outputs": [
    {
     "data": {
      "text/html": [
       "<div>\n",
       "<style scoped>\n",
       "    .dataframe tbody tr th:only-of-type {\n",
       "        vertical-align: middle;\n",
       "    }\n",
       "\n",
       "    .dataframe tbody tr th {\n",
       "        vertical-align: top;\n",
       "    }\n",
       "\n",
       "    .dataframe thead th {\n",
       "        text-align: right;\n",
       "    }\n",
       "</style>\n",
       "<table border=\"1\" class=\"dataframe\">\n",
       "  <thead>\n",
       "    <tr style=\"text-align: right;\">\n",
       "      <th></th>\n",
       "      <th>neighbourhood</th>\n",
       "      <th>price</th>\n",
       "    </tr>\n",
       "    <tr>\n",
       "      <th>host_since</th>\n",
       "      <th></th>\n",
       "      <th></th>\n",
       "    </tr>\n",
       "  </thead>\n",
       "  <tbody>\n",
       "    <tr>\n",
       "      <th>2008-12-31</th>\n",
       "      <td>4</td>\n",
       "      <td>77.750000</td>\n",
       "    </tr>\n",
       "    <tr>\n",
       "      <th>2009-12-31</th>\n",
       "      <td>106</td>\n",
       "      <td>159.641509</td>\n",
       "    </tr>\n",
       "    <tr>\n",
       "      <th>2010-12-31</th>\n",
       "      <td>416</td>\n",
       "      <td>125.031250</td>\n",
       "    </tr>\n",
       "    <tr>\n",
       "      <th>2011-12-31</th>\n",
       "      <td>1339</td>\n",
       "      <td>124.828230</td>\n",
       "    </tr>\n",
       "    <tr>\n",
       "      <th>2012-12-31</th>\n",
       "      <td>4592</td>\n",
       "      <td>111.578615</td>\n",
       "    </tr>\n",
       "    <tr>\n",
       "      <th>2013-12-31</th>\n",
       "      <td>8142</td>\n",
       "      <td>107.096414</td>\n",
       "    </tr>\n",
       "    <tr>\n",
       "      <th>2014-12-31</th>\n",
       "      <td>10922</td>\n",
       "      <td>100.253800</td>\n",
       "    </tr>\n",
       "    <tr>\n",
       "      <th>2015-12-31</th>\n",
       "      <td>12147</td>\n",
       "      <td>103.646250</td>\n",
       "    </tr>\n",
       "    <tr>\n",
       "      <th>2016-12-31</th>\n",
       "      <td>8867</td>\n",
       "      <td>114.211345</td>\n",
       "    </tr>\n",
       "    <tr>\n",
       "      <th>2017-12-31</th>\n",
       "      <td>4585</td>\n",
       "      <td>108.658888</td>\n",
       "    </tr>\n",
       "    <tr>\n",
       "      <th>2018-12-31</th>\n",
       "      <td>4294</td>\n",
       "      <td>138.209362</td>\n",
       "    </tr>\n",
       "    <tr>\n",
       "      <th>2019-12-31</th>\n",
       "      <td>5685</td>\n",
       "      <td>129.962533</td>\n",
       "    </tr>\n",
       "    <tr>\n",
       "      <th>2020-12-31</th>\n",
       "      <td>3363</td>\n",
       "      <td>143.517098</td>\n",
       "    </tr>\n",
       "    <tr>\n",
       "      <th>2021-12-31</th>\n",
       "      <td>133</td>\n",
       "      <td>93.488722</td>\n",
       "    </tr>\n",
       "  </tbody>\n",
       "</table>\n",
       "</div>"
      ],
      "text/plain": [
       "            neighbourhood       price\n",
       "host_since                           \n",
       "2008-12-31              4   77.750000\n",
       "2009-12-31            106  159.641509\n",
       "2010-12-31            416  125.031250\n",
       "2011-12-31           1339  124.828230\n",
       "2012-12-31           4592  111.578615\n",
       "2013-12-31           8142  107.096414\n",
       "2014-12-31          10922  100.253800\n",
       "2015-12-31          12147  103.646250\n",
       "2016-12-31           8867  114.211345\n",
       "2017-12-31           4585  108.658888\n",
       "2018-12-31           4294  138.209362\n",
       "2019-12-31           5685  129.962533\n",
       "2020-12-31           3363  143.517098\n",
       "2021-12-31            133   93.488722"
      ]
     },
     "execution_count": 49,
     "metadata": {},
     "output_type": "execute_result"
    }
   ],
   "source": [
    "paris_llistings_over_time"
   ]
  },
  {
   "cell_type": "markdown",
   "id": "9385cd70",
   "metadata": {
    "papermill": {
     "duration": 0.023181,
     "end_time": "2025-01-24T20:48:37.378781",
     "exception": false,
     "start_time": "2025-01-24T20:48:37.355600",
     "status": "completed"
    },
    "tags": []
   },
   "source": [
    "### **Plots a line chart showing the popularity of Airbnb listings over time by neighbourhood count.**"
   ]
  },
  {
   "cell_type": "code",
   "execution_count": 50,
   "id": "35bec635",
   "metadata": {
    "execution": {
     "iopub.execute_input": "2025-01-24T20:48:37.427136Z",
     "iopub.status.busy": "2025-01-24T20:48:37.426752Z",
     "iopub.status.idle": "2025-01-24T20:48:37.768171Z",
     "shell.execute_reply": "2025-01-24T20:48:37.766919Z"
    },
    "papermill": {
     "duration": 0.36828,
     "end_time": "2025-01-24T20:48:37.770263",
     "exception": false,
     "start_time": "2025-01-24T20:48:37.401983",
     "status": "completed"
    },
    "tags": []
   },
   "outputs": [
    {
     "name": "stderr",
     "output_type": "stream",
     "text": [
      "/usr/local/lib/python3.10/dist-packages/seaborn/_oldcore.py:1119: FutureWarning: use_inf_as_na option is deprecated and will be removed in a future version. Convert inf values to NaN before operating instead.\n",
      "  with pd.option_context('mode.use_inf_as_na', True):\n",
      "/usr/local/lib/python3.10/dist-packages/seaborn/_oldcore.py:1119: FutureWarning: use_inf_as_na option is deprecated and will be removed in a future version. Convert inf values to NaN before operating instead.\n",
      "  with pd.option_context('mode.use_inf_as_na', True):\n"
     ]
    },
    {
     "data": {
      "image/png": "[encoded data removed]",
      "text/plain": [
       "<Figure size 640x480 with 1 Axes>"
      ]
     },
     "metadata": {},
     "output_type": "display_data"
    }
   ],
   "source": [
    "sns.lineplot(paris_llistings_over_time[\"neighbourhood\"],color = \"brown\")\n",
    "plt.xlabel(\"Years\")\n",
    "plt.ylabel(\"Number of localities\")\n",
    "plt.title(\"Popularity of AirBnBs over time\")\n",
    "plt.show()"
   ]
  },
  {
   "cell_type": "markdown",
   "id": "8dbc36bd",
   "metadata": {
    "papermill": {
     "duration": 0.023985,
     "end_time": "2025-01-24T20:48:37.818928",
     "exception": false,
     "start_time": "2025-01-24T20:48:37.794943",
     "status": "completed"
    },
    "tags": []
   },
   "source": [
    "### 1.There is a clear drop in the popularity of Airbnbs after the regulation was introduced(2016-2017).\n",
    "### 2.We can see an upwards trend when the regulation is imposed and everyone gets used to it(2018-2019 ).\n",
    "### 3.However,covid_19 has again hit the airbnb Business(2020). "
   ]
  },
  {
   "cell_type": "code",
   "execution_count": 51,
   "id": "2442d530",
   "metadata": {
    "execution": {
     "iopub.execute_input": "2025-01-24T20:48:37.868227Z",
     "iopub.status.busy": "2025-01-24T20:48:37.867854Z",
     "iopub.status.idle": "2025-01-24T20:48:38.195346Z",
     "shell.execute_reply": "2025-01-24T20:48:38.194241Z"
    },
    "papermill": {
     "duration": 0.353966,
     "end_time": "2025-01-24T20:48:38.196921",
     "exception": false,
     "start_time": "2025-01-24T20:48:37.842955",
     "status": "completed"
    },
    "tags": []
   },
   "outputs": [
    {
     "name": "stderr",
     "output_type": "stream",
     "text": [
      "/usr/local/lib/python3.10/dist-packages/seaborn/_oldcore.py:1119: FutureWarning: use_inf_as_na option is deprecated and will be removed in a future version. Convert inf values to NaN before operating instead.\n",
      "  with pd.option_context('mode.use_inf_as_na', True):\n",
      "/usr/local/lib/python3.10/dist-packages/seaborn/_oldcore.py:1119: FutureWarning: use_inf_as_na option is deprecated and will be removed in a future version. Convert inf values to NaN before operating instead.\n",
      "  with pd.option_context('mode.use_inf_as_na', True):\n"
     ]
    },
    {
     "data": {
      "image/png": "[encoded data removed]",
      "text/plain": [
       "<Figure size 640x480 with 1 Axes>"
      ]
     },
     "metadata": {},
     "output_type": "display_data"
    }
   ],
   "source": [
    "sns.lineplot(paris_llistings_over_time[\"price\"],color = \"brown\")\n",
    "plt.xlabel(\"Years\")\n",
    "plt.ylabel(\"Average price over the years for Paris\")\n",
    "plt.title(\"Popularity of AirBnBs over time\")\n",
    "plt.show()"
   ]
  },
  {
   "cell_type": "code",
   "execution_count": 52,
   "id": "eeb5dbb4",
   "metadata": {
    "execution": {
     "iopub.execute_input": "2025-01-24T20:48:38.249729Z",
     "iopub.status.busy": "2025-01-24T20:48:38.249287Z",
     "iopub.status.idle": "2025-01-24T20:48:38.675218Z",
     "shell.execute_reply": "2025-01-24T20:48:38.674104Z"
    },
    "papermill": {
     "duration": 0.455082,
     "end_time": "2025-01-24T20:48:38.677416",
     "exception": false,
     "start_time": "2025-01-24T20:48:38.222334",
     "status": "completed"
    },
    "tags": []
   },
   "outputs": [
    {
     "data": {
      "image/png": "[encoded data removed]",
      "text/plain": [
       "<Figure size 640x480 with 2 Axes>"
      ]
     },
     "metadata": {},
     "output_type": "display_data"
    }
   ],
   "source": [
    "fig , ax = plt.subplots()\n",
    "\n",
    "ax.plot(paris_llistings_over_time.index,paris_llistings_over_time[\"neighbourhood\"],\n",
    "        label = \"New Hosts\",\n",
    "        c= \"pink\")\n",
    "\n",
    "ax.set_ylabel(\"New Hosts\")\n",
    "\n",
    "ax2 = ax.twinx()\n",
    "\n",
    "ax2.plot(paris_llistings_over_time.index,paris_llistings_over_time[\"price\"],\n",
    "        label = \"Average price\")\n",
    "\n",
    "ax2.set_ylim(0)\n",
    "\n",
    "ax2.set_ylabel(\"Average price\")\n",
    "\n",
    "ax.set_title(\"Regulations Lead to Fever New Hosts and Higher Prices\")\n",
    "\n",
    "plt.show()"
   ]
  },
  {
   "cell_type": "markdown",
   "id": "5d6e03cb",
   "metadata": {
    "papermill": {
     "duration": 0.025454,
     "end_time": "2025-01-24T20:48:38.729092",
     "exception": false,
     "start_time": "2025-01-24T20:48:38.703638",
     "status": "completed"
    },
    "tags": []
   },
   "source": [
    "## Final Insights\n",
    "\n",
    "1.The Number of AirBnBs kept on increasing since the launch and prices kept on increasing too, due to Initial traction and early adopters.\n",
    "\n",
    "2.After the startup is known to everyone and becames a comman utility,AirBnBs start increasing in numbers and price also kept on decreasing.\n",
    "\n",
    "3.After Regulaton was announced around 2015 there was under confindence in the business,number of AirBnBs started decreasing and price started increasing.\n",
    "\n",
    "4.once the regulation is the new normal, durning the year 2019,the number of AirBnBs have increased in number and price kept decreasing dur to more supply of them."
   ]
  },
  {
   "cell_type": "markdown",
   "id": "d34b7ab7",
   "metadata": {
    "papermill": {
     "duration": 0.025617,
     "end_time": "2025-01-24T20:48:38.780448",
     "exception": false,
     "start_time": "2025-01-24T20:48:38.754831",
     "status": "completed"
    },
    "tags": []
   },
   "source": [
    "## Recommandation for AirBnB\n",
    "\n",
    "1.Regulations in long term rentals can impact the business adversely, there might be customer churn due to uncertainty.\n",
    "\n",
    "2.Such regulations might add to AirBnB losses which might be difficult to recover later.\n",
    "\n",
    "3.If the customer Experience is going to get impacted due to this, it would lead to incorrect brand perception.\n",
    "\n",
    "4.it is recommended to watch out for any such regulations at other places and be prepared for it.\n",
    "\n",
    "5.AirBnB can replicate such regulations at other places.\n",
    "\n",
    "6.they can keep strict rules to onboard and release the hosts.\n",
    "\n",
    "7.they can limit the number of AirBnBs in a locality to ensure the public has enough rental options and the government doesnt step in."
   ]
  },
  {
   "cell_type": "code",
   "execution_count": null,
   "id": "0d571a28",
   "metadata": {
    "papermill": {
     "duration": 0.025636,
     "end_time": "2025-01-24T20:48:38.832843",
     "exception": false,
     "start_time": "2025-01-24T20:48:38.807207",
     "status": "completed"
    },
    "tags": []
   },
   "outputs": [],
   "source": []
  },
  {
   "cell_type": "code",
   "execution_count": null,
   "id": "29e1b2ab",
   "metadata": {
    "papermill": {
     "duration": 0.025779,
     "end_time": "2025-01-24T20:48:38.884733",
     "exception": false,
     "start_time": "2025-01-24T20:48:38.858954",
     "status": "completed"
    },
    "tags": []
   },
   "outputs": [],
   "source": []
  },
  {
   "cell_type": "code",
   "execution_count": null,
   "id": "91666614",
   "metadata": {
    "papermill": {
     "duration": 0.025809,
     "end_time": "2025-01-24T20:48:38.937235",
     "exception": false,
     "start_time": "2025-01-24T20:48:38.911426",
     "status": "completed"
    },
    "tags": []
   },
   "outputs": [],
   "source": []
  }
 ],
 "metadata": {
  "kaggle": {
   "accelerator": "none",
   "dataSources": [
    {
     "datasetId": 1530930,
     "sourceId": 2526818,
     "sourceType": "datasetVersion"
    }
   ],
   "dockerImageVersionId": 30822,
   "isGpuEnabled": false,
   "isInternetEnabled": false,
   "language": "python",
   "sourceType": "notebook"
  },
  "kernelspec": {
   "display_name": "Python 3",
   "language": "python",
   "name": "python3"
  },
  "language_info": {
   "codemirror_mode": {
    "name": "ipython",
    "version": 3
   },
   "file_extension": ".py",
   "mimetype": "text/x-python",
   "name": "python",
   "nbconvert_exporter": "python",
   "pygments_lexer": "ipython3",
   "version": "3.10.12"
  },
  "papermill": {
   "default_parameters": {},
   "duration": 25.005241,
   "end_time": "2025-01-24T20:48:39.786233",
   "environment_variables": {},
   "exception": null,
   "input_path": "__notebook__.ipynb",
   "output_path": "__notebook__.ipynb",
   "parameters": {},
   "start_time": "2025-01-24T20:48:14.780992",
   "version": "2.6.0"
  }
 },
 "nbformat": 4,
 "nbformat_minor": 5
}
